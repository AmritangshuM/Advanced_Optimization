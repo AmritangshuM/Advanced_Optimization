{
 "cells": [
  {
   "cell_type": "markdown",
   "id": "9ad024b6",
   "metadata": {},
   "source": [
    "# Evaluator Inputs"
   ]
  },
  {
   "cell_type": "code",
   "execution_count": 1,
   "id": "3d12149c",
   "metadata": {},
   "outputs": [],
   "source": [
    "file_train = \"stocks2019.csv\"\n",
    "file_test = \"stocks2020.csv\"\n",
    "timeout = 3600"
   ]
  },
  {
   "cell_type": "markdown",
   "id": "783e75cc",
   "metadata": {},
   "source": [
    "#### Assign 'm' Constraint on # of Stocks Selected for Portfolio"
   ]
  },
  {
   "cell_type": "code",
   "execution_count": 2,
   "id": "9072c075",
   "metadata": {},
   "outputs": [],
   "source": [
    "import pandas as pd\n",
    "# Number of stocks in index\n",
    "n = pd.read_csv(file_train).shape[1]-2\n",
    "\n",
    "# Select an m constraint\n",
    "m = None\n",
    "while True:\n",
    "    try:\n",
    "        m = int(input('How many stocks would you like to select for m (INTEGERS ONLY)? The index has {} stocks.'.format(n)))\n",
    "        if m <= n:\n",
    "            break\n",
    "        else:\n",
    "            print('Your choice of stocks is greater than the maximum number of stocks in the index. Try again.')\n",
    "            print('\\n')\n",
    "    except:\n",
    "        print('That was not an integer. Try again.')\n",
    "        print('\\n')\n",
    "\n",
    "original_m = m"
   ]
  },
  {
   "cell_type": "markdown",
   "id": "f1b8e058",
   "metadata": {},
   "source": [
    "---"
   ]
  },
  {
   "cell_type": "markdown",
   "id": "22cccebc",
   "metadata": {},
   "source": [
    "---"
   ]
  },
  {
   "cell_type": "markdown",
   "id": "9a2bfa0f",
   "metadata": {},
   "source": [
    "---"
   ]
  },
  {
   "cell_type": "markdown",
   "id": "9ab49dbc",
   "metadata": {},
   "source": [
    "---"
   ]
  },
  {
   "cell_type": "markdown",
   "id": "900202c2",
   "metadata": {},
   "source": [
    "# Setup"
   ]
  },
  {
   "cell_type": "code",
   "execution_count": 89,
   "id": "aae581cb",
   "metadata": {},
   "outputs": [],
   "source": [
    "import numpy as np\n",
    "import gurobipy as gp\n",
    "import matplotlib.pyplot as plt\n",
    "%matplotlib inline\n",
    "import warnings\n",
    "warnings.filterwarnings('ignore')\n",
    "import seaborn as sns"
   ]
  },
  {
   "cell_type": "code",
   "execution_count": 4,
   "id": "2f427819",
   "metadata": {},
   "outputs": [],
   "source": [
    "#Import Prices\n",
    "def stockDF(csv, dates='X'):\n",
    "    df = pd.read_csv(csv).rename(columns = {dates:'Date'})\n",
    "    df['Date'] = pd.to_datetime(df['Date'])\n",
    "    df.set_index('Date', inplace=True)\n",
    "    return df\n",
    "\n",
    "#Calculate Returns\n",
    "def returnsDF(df):\n",
    "    df = df/df.shift(1)-1\n",
    "    return df[1:]\n",
    "\n",
    "#Optimize x\n",
    "def optimize(obj, A, B, sense, vtype='C', minimize=False, m=None):    \n",
    "    # run gurobi optimization\n",
    "    if m:\n",
    "        B[0] = m #if using an m stock limit, then make the first constraint = m stocks\n",
    "    \n",
    "    model = gp.Model()\n",
    "\n",
    "    modX = model.addMVar(len(obj), vtype=[vtype]*len(obj))\n",
    "    modCon = model.addMConstrs(A, modX, sense, B)\n",
    "    \n",
    "    if minimize:\n",
    "        model.setMObjective(None, obj, 0, sense = gp.GRB.MINIMIZE)\n",
    "    else:\n",
    "        model.setMObjective(None, obj, 0, sense = gp.GRB.MAXIMIZE)\n",
    "\n",
    "    model.Params.OutputFlag = 0\n",
    "    model.Params.TimeLimit = timeout\n",
    "    \n",
    "    try:\n",
    "        model.optimize()\n",
    "    except Exception as e:\n",
    "        print(e)\n",
    "    \n",
    "    if model.solCount == 0:\n",
    "        print(\"Model is infeasible\")\n",
    "    \n",
    "    return model.objVal, modX.x\n",
    "\n",
    "\n",
    "#Run correlation optimization and output selected stocks\n",
    "def optimize_corr(m):\n",
    "    #Optimize\n",
    "    corrobjVal, corrX = optimize(corrobj, corrA, corrB, corrsense, vtype='B', m=m)\n",
    "    \n",
    "    #Resize the selected correlations to an interpretable matrix.\n",
    "    #Each row is binaries of a portfolio stock and all of the index stocks that it represents.\n",
    "    corrX = corrX[-length*length:].reshape(length,length)\n",
    "    binarydf = pd.DataFrame(corrX, index = rho.index, columns = rho.columns).replace(0, np.nan)\n",
    "\n",
    "    #Show how many index stocks each port stock represents. (Sum of row binaries).\n",
    "    portstocks = binarydf.T.sum().sort_values(ascending=False)[:m]\n",
    "\n",
    "    #Create and index list with the stock tickers\n",
    "    stockids = list(portstocks.index)\n",
    "    \n",
    "    return corrobjVal, portstocks, stockids, binarydf\n",
    "\n",
    "\n",
    "#Optimize weights with given stocks\n",
    "def optimize_weights(retdf, stockids):\n",
    "    #create a flexible t variable to genericize code for different frequency and/or lengths of time\n",
    "    t = retdf.shape[0]\n",
    "    m = len(stockids)\n",
    "    \n",
    "    #Constraint 1: All weights must add up to 1\n",
    "    weightscon = np.array([[1]*m+[0]*t])\n",
    "\n",
    "    #Constraint 2: Difference in portfolio returns and index return generates an error (slack) variable.\n",
    "    #Portfolio return in a function of constant coefficients and weight variables.\n",
    "    #Error variables are effectively an identity matrix taking 1 times error for that day.\n",
    "    #RHS is the index's true return, which is a constant.\n",
    "\n",
    "    #Math Basis: \n",
    "    #       stockrets*[w]s - actual return = [error slack]\n",
    "    #Absolute Value:\n",
    "    #       stockrets*[w]s - actual return <= [error slack]\n",
    "    #       actual return - stockrets*[w]s <= [error slack] OR -stockrets*[w]s + actual return <= [error slack]\n",
    "\n",
    "    #Reordered with Variables on LHS and Constants on RHS:\n",
    "    #       stockrets*[w]s - [error slack] = actual return\n",
    "    #Absolute Value:\n",
    "    #       stockrets*[w]s - [error slack] <= actual return\n",
    "    #       -stockrets*[w]s - [error slack] <= -actual return\n",
    "\n",
    "    #Create stockrets matrix for coefficients of weights (constants)\n",
    "    stockrets = retdf[stockids].values\n",
    "    #Make the negative mirror for absolute value\n",
    "    stockrets2 = -stockrets\n",
    "\n",
    "    #Create the slack variable identity matrix (negative)\n",
    "    slack = np.eye(t)*-1\n",
    "\n",
    "    #Add the slack for each period to the right of the returns for that period in both 'mirrors'\n",
    "    stockretscon = np.concatenate((stockrets, slack),axis=1)\n",
    "    stockrets2con = np.concatenate((stockrets2, slack),axis=1)\n",
    "\n",
    "    #Concatenate a whole constraint matrix with weights and both 'mirrors' of error matrices\n",
    "    constr = np.concatenate((weightscon, stockretscon, stockrets2con))\n",
    "    \n",
    "    #Create the actual returns matrix (constants)\n",
    "    actrets = retdf.iloc[:,0].values\n",
    "    actrets2 = -actrets\n",
    "\n",
    "    #Concatenate a whole RHS matrix with weight total and both 'mirrors' of actual returns matrices\n",
    "    rhs = np.concatenate((np.array([1]),actrets, actrets2))\n",
    "    rhs.shape\n",
    "    \n",
    "    ### Gurobi Inputs\n",
    "    #objective is sum of error slack variables for all periods\n",
    "    obj = [0]*m + [1]*t\n",
    "    obj = np.array(obj)\n",
    "    A = constr\n",
    "    B = rhs\n",
    "    sense = ['='] + [\"<\"]*t*2 #twice as long because of absolute values\n",
    "    \n",
    "    ###Optimize for weights\n",
    "    errorsum, weightX = optimize(obj, A, B, sense, vtype='C', minimize=True)\n",
    "    \n",
    "    #weights series\n",
    "    weights = pd.Series(weightX[:m], index = stockids)\n",
    "    \n",
    "    #errors (slack variables) df\n",
    "    errors = pd.Series(weightX[m:])\n",
    "    errors = errors.to_frame(name='Errors')\n",
    "    \n",
    "    return errorsum, weights, errors\n",
    "\n",
    "#Evaluate portfolio error on test data\n",
    "def track_error(retdf, stockids, weights):\n",
    "    #calculate the portfolio returns\n",
    "    portrets_test = retdf[stockids] @ weights\n",
    "\n",
    "    #Actual returns for test data\n",
    "    actrets_test = retdf.iloc[:,0]\n",
    "\n",
    "    #Calculate test error\n",
    "    errors_test = portrets_test - actrets_test\n",
    "    errors_test = pd.Series(errors_test, index = retdf.index)\n",
    "    \n",
    "    return abs(errors_test).sum(), errors_test"
   ]
  },
  {
   "cell_type": "markdown",
   "id": "3611dca5",
   "metadata": {},
   "source": [
    "# Training Data Pre-Processing (& Test Data Import)"
   ]
  },
  {
   "cell_type": "code",
   "execution_count": 5,
   "id": "cba514fd",
   "metadata": {
    "scrolled": true
   },
   "outputs": [
    {
     "data": {
      "text/html": [
       "<div>\n",
       "<style scoped>\n",
       "    .dataframe tbody tr th:only-of-type {\n",
       "        vertical-align: middle;\n",
       "    }\n",
       "\n",
       "    .dataframe tbody tr th {\n",
       "        vertical-align: top;\n",
       "    }\n",
       "\n",
       "    .dataframe thead th {\n",
       "        text-align: right;\n",
       "    }\n",
       "</style>\n",
       "<table border=\"1\" class=\"dataframe\">\n",
       "  <thead>\n",
       "    <tr style=\"text-align: right;\">\n",
       "      <th></th>\n",
       "      <th>NDX</th>\n",
       "      <th>ATVI</th>\n",
       "      <th>ADBE</th>\n",
       "      <th>AMD</th>\n",
       "      <th>ALXN</th>\n",
       "      <th>ALGN</th>\n",
       "      <th>GOOGL</th>\n",
       "      <th>GOOG</th>\n",
       "      <th>AMZN</th>\n",
       "      <th>AMGN</th>\n",
       "      <th>...</th>\n",
       "      <th>TCOM</th>\n",
       "      <th>ULTA</th>\n",
       "      <th>VRSN</th>\n",
       "      <th>VRSK</th>\n",
       "      <th>VRTX</th>\n",
       "      <th>WBA</th>\n",
       "      <th>WDAY</th>\n",
       "      <th>WDC</th>\n",
       "      <th>XEL</th>\n",
       "      <th>XLNX</th>\n",
       "    </tr>\n",
       "    <tr>\n",
       "      <th>Date</th>\n",
       "      <th></th>\n",
       "      <th></th>\n",
       "      <th></th>\n",
       "      <th></th>\n",
       "      <th></th>\n",
       "      <th></th>\n",
       "      <th></th>\n",
       "      <th></th>\n",
       "      <th></th>\n",
       "      <th></th>\n",
       "      <th></th>\n",
       "      <th></th>\n",
       "      <th></th>\n",
       "      <th></th>\n",
       "      <th></th>\n",
       "      <th></th>\n",
       "      <th></th>\n",
       "      <th></th>\n",
       "      <th></th>\n",
       "      <th></th>\n",
       "      <th></th>\n",
       "    </tr>\n",
       "  </thead>\n",
       "  <tbody>\n",
       "    <tr>\n",
       "      <th>2019-01-03</th>\n",
       "      <td>-0.033602</td>\n",
       "      <td>-0.035509</td>\n",
       "      <td>-0.039498</td>\n",
       "      <td>-0.094530</td>\n",
       "      <td>0.022030</td>\n",
       "      <td>-0.085791</td>\n",
       "      <td>-0.027696</td>\n",
       "      <td>-0.028484</td>\n",
       "      <td>-0.025242</td>\n",
       "      <td>-0.015216</td>\n",
       "      <td>...</td>\n",
       "      <td>-0.022834</td>\n",
       "      <td>-0.018591</td>\n",
       "      <td>-0.034989</td>\n",
       "      <td>-0.030557</td>\n",
       "      <td>-0.002133</td>\n",
       "      <td>-0.010435</td>\n",
       "      <td>-0.035808</td>\n",
       "      <td>-0.068217</td>\n",
       "      <td>-0.003940</td>\n",
       "      <td>-0.037651</td>\n",
       "    </tr>\n",
       "    <tr>\n",
       "      <th>2019-01-04</th>\n",
       "      <td>0.044824</td>\n",
       "      <td>0.039903</td>\n",
       "      <td>0.048632</td>\n",
       "      <td>0.114370</td>\n",
       "      <td>0.057779</td>\n",
       "      <td>0.010445</td>\n",
       "      <td>0.051294</td>\n",
       "      <td>0.053786</td>\n",
       "      <td>0.050064</td>\n",
       "      <td>0.034184</td>\n",
       "      <td>...</td>\n",
       "      <td>0.058976</td>\n",
       "      <td>0.047954</td>\n",
       "      <td>0.044744</td>\n",
       "      <td>0.044147</td>\n",
       "      <td>0.054785</td>\n",
       "      <td>0.033269</td>\n",
       "      <td>0.060577</td>\n",
       "      <td>0.042356</td>\n",
       "      <td>0.009786</td>\n",
       "      <td>0.046303</td>\n",
       "    </tr>\n",
       "    <tr>\n",
       "      <th>2019-01-07</th>\n",
       "      <td>0.010211</td>\n",
       "      <td>0.028196</td>\n",
       "      <td>0.013573</td>\n",
       "      <td>0.082632</td>\n",
       "      <td>0.018302</td>\n",
       "      <td>0.017192</td>\n",
       "      <td>-0.001994</td>\n",
       "      <td>-0.002167</td>\n",
       "      <td>0.034353</td>\n",
       "      <td>0.013457</td>\n",
       "      <td>...</td>\n",
       "      <td>0.022067</td>\n",
       "      <td>0.062620</td>\n",
       "      <td>0.016312</td>\n",
       "      <td>0.001000</td>\n",
       "      <td>0.018240</td>\n",
       "      <td>0.005749</td>\n",
       "      <td>0.000918</td>\n",
       "      <td>0.035522</td>\n",
       "      <td>-0.004330</td>\n",
       "      <td>0.026415</td>\n",
       "    </tr>\n",
       "    <tr>\n",
       "      <th>2019-01-08</th>\n",
       "      <td>0.009802</td>\n",
       "      <td>0.030309</td>\n",
       "      <td>0.014918</td>\n",
       "      <td>0.008751</td>\n",
       "      <td>0.006207</td>\n",
       "      <td>0.015954</td>\n",
       "      <td>0.008783</td>\n",
       "      <td>0.007385</td>\n",
       "      <td>0.016612</td>\n",
       "      <td>0.012824</td>\n",
       "      <td>...</td>\n",
       "      <td>0.010281</td>\n",
       "      <td>0.018450</td>\n",
       "      <td>0.036460</td>\n",
       "      <td>0.008902</td>\n",
       "      <td>0.013307</td>\n",
       "      <td>0.020009</td>\n",
       "      <td>0.021101</td>\n",
       "      <td>-0.009615</td>\n",
       "      <td>0.011597</td>\n",
       "      <td>-0.019051</td>\n",
       "    </tr>\n",
       "    <tr>\n",
       "      <th>2019-01-09</th>\n",
       "      <td>0.007454</td>\n",
       "      <td>0.017210</td>\n",
       "      <td>0.011819</td>\n",
       "      <td>-0.026988</td>\n",
       "      <td>0.012430</td>\n",
       "      <td>0.038196</td>\n",
       "      <td>-0.003427</td>\n",
       "      <td>-0.001505</td>\n",
       "      <td>0.001714</td>\n",
       "      <td>-0.001196</td>\n",
       "      <td>...</td>\n",
       "      <td>0.023745</td>\n",
       "      <td>0.018804</td>\n",
       "      <td>-0.008157</td>\n",
       "      <td>0.003781</td>\n",
       "      <td>0.023065</td>\n",
       "      <td>0.012050</td>\n",
       "      <td>-0.004612</td>\n",
       "      <td>0.044083</td>\n",
       "      <td>-0.007984</td>\n",
       "      <td>0.008972</td>\n",
       "    </tr>\n",
       "  </tbody>\n",
       "</table>\n",
       "<p>5 rows × 101 columns</p>\n",
       "</div>"
      ],
      "text/plain": [
       "                 NDX      ATVI      ADBE       AMD      ALXN      ALGN  \\\n",
       "Date                                                                     \n",
       "2019-01-03 -0.033602 -0.035509 -0.039498 -0.094530  0.022030 -0.085791   \n",
       "2019-01-04  0.044824  0.039903  0.048632  0.114370  0.057779  0.010445   \n",
       "2019-01-07  0.010211  0.028196  0.013573  0.082632  0.018302  0.017192   \n",
       "2019-01-08  0.009802  0.030309  0.014918  0.008751  0.006207  0.015954   \n",
       "2019-01-09  0.007454  0.017210  0.011819 -0.026988  0.012430  0.038196   \n",
       "\n",
       "               GOOGL      GOOG      AMZN      AMGN  ...      TCOM      ULTA  \\\n",
       "Date                                                ...                       \n",
       "2019-01-03 -0.027696 -0.028484 -0.025242 -0.015216  ... -0.022834 -0.018591   \n",
       "2019-01-04  0.051294  0.053786  0.050064  0.034184  ...  0.058976  0.047954   \n",
       "2019-01-07 -0.001994 -0.002167  0.034353  0.013457  ...  0.022067  0.062620   \n",
       "2019-01-08  0.008783  0.007385  0.016612  0.012824  ...  0.010281  0.018450   \n",
       "2019-01-09 -0.003427 -0.001505  0.001714 -0.001196  ...  0.023745  0.018804   \n",
       "\n",
       "                VRSN      VRSK      VRTX       WBA      WDAY       WDC  \\\n",
       "Date                                                                     \n",
       "2019-01-03 -0.034989 -0.030557 -0.002133 -0.010435 -0.035808 -0.068217   \n",
       "2019-01-04  0.044744  0.044147  0.054785  0.033269  0.060577  0.042356   \n",
       "2019-01-07  0.016312  0.001000  0.018240  0.005749  0.000918  0.035522   \n",
       "2019-01-08  0.036460  0.008902  0.013307  0.020009  0.021101 -0.009615   \n",
       "2019-01-09 -0.008157  0.003781  0.023065  0.012050 -0.004612  0.044083   \n",
       "\n",
       "                 XEL      XLNX  \n",
       "Date                            \n",
       "2019-01-03 -0.003940 -0.037651  \n",
       "2019-01-04  0.009786  0.046303  \n",
       "2019-01-07 -0.004330  0.026415  \n",
       "2019-01-08  0.011597 -0.019051  \n",
       "2019-01-09 -0.007984  0.008972  \n",
       "\n",
       "[5 rows x 101 columns]"
      ]
     },
     "execution_count": 5,
     "metadata": {},
     "output_type": "execute_result"
    }
   ],
   "source": [
    "#import the train and test csv files as dfs\n",
    "df_train = stockDF(file_train)\n",
    "df_test = stockDF(file_test)\n",
    "\n",
    "#create train and test returns dfs\n",
    "ret_train = returnsDF(df_train)\n",
    "ret_test = returnsDF(df_test)\n",
    "\n",
    "ret_train.head()"
   ]
  },
  {
   "cell_type": "code",
   "execution_count": 6,
   "id": "bc4b8d95",
   "metadata": {},
   "outputs": [
    {
     "data": {
      "text/html": [
       "<div>\n",
       "<style scoped>\n",
       "    .dataframe tbody tr th:only-of-type {\n",
       "        vertical-align: middle;\n",
       "    }\n",
       "\n",
       "    .dataframe tbody tr th {\n",
       "        vertical-align: top;\n",
       "    }\n",
       "\n",
       "    .dataframe thead th {\n",
       "        text-align: right;\n",
       "    }\n",
       "</style>\n",
       "<table border=\"1\" class=\"dataframe\">\n",
       "  <thead>\n",
       "    <tr style=\"text-align: right;\">\n",
       "      <th></th>\n",
       "      <th>ATVI</th>\n",
       "      <th>ADBE</th>\n",
       "      <th>AMD</th>\n",
       "      <th>ALXN</th>\n",
       "      <th>ALGN</th>\n",
       "      <th>GOOGL</th>\n",
       "      <th>GOOG</th>\n",
       "      <th>AMZN</th>\n",
       "      <th>AMGN</th>\n",
       "      <th>ADI</th>\n",
       "      <th>...</th>\n",
       "      <th>TCOM</th>\n",
       "      <th>ULTA</th>\n",
       "      <th>VRSN</th>\n",
       "      <th>VRSK</th>\n",
       "      <th>VRTX</th>\n",
       "      <th>WBA</th>\n",
       "      <th>WDAY</th>\n",
       "      <th>WDC</th>\n",
       "      <th>XEL</th>\n",
       "      <th>XLNX</th>\n",
       "    </tr>\n",
       "  </thead>\n",
       "  <tbody>\n",
       "    <tr>\n",
       "      <th>WBA</th>\n",
       "      <td>0.218149</td>\n",
       "      <td>0.228106</td>\n",
       "      <td>0.281950</td>\n",
       "      <td>0.192720</td>\n",
       "      <td>0.219595</td>\n",
       "      <td>0.232900</td>\n",
       "      <td>0.230603</td>\n",
       "      <td>0.288168</td>\n",
       "      <td>0.194490</td>\n",
       "      <td>0.347861</td>\n",
       "      <td>...</td>\n",
       "      <td>0.257049</td>\n",
       "      <td>0.145330</td>\n",
       "      <td>0.195475</td>\n",
       "      <td>0.126118</td>\n",
       "      <td>0.214585</td>\n",
       "      <td>1.000000</td>\n",
       "      <td>0.211641</td>\n",
       "      <td>0.296309</td>\n",
       "      <td>-0.130798</td>\n",
       "      <td>0.276643</td>\n",
       "    </tr>\n",
       "    <tr>\n",
       "      <th>WDAY</th>\n",
       "      <td>0.311659</td>\n",
       "      <td>0.650430</td>\n",
       "      <td>0.407626</td>\n",
       "      <td>0.416396</td>\n",
       "      <td>0.308968</td>\n",
       "      <td>0.379493</td>\n",
       "      <td>0.371826</td>\n",
       "      <td>0.424748</td>\n",
       "      <td>0.211712</td>\n",
       "      <td>0.351734</td>\n",
       "      <td>...</td>\n",
       "      <td>0.235045</td>\n",
       "      <td>0.269545</td>\n",
       "      <td>0.569672</td>\n",
       "      <td>0.401476</td>\n",
       "      <td>0.376047</td>\n",
       "      <td>0.211641</td>\n",
       "      <td>1.000000</td>\n",
       "      <td>0.315699</td>\n",
       "      <td>0.209240</td>\n",
       "      <td>0.254117</td>\n",
       "    </tr>\n",
       "    <tr>\n",
       "      <th>WDC</th>\n",
       "      <td>0.303077</td>\n",
       "      <td>0.361516</td>\n",
       "      <td>0.438892</td>\n",
       "      <td>0.289908</td>\n",
       "      <td>0.284407</td>\n",
       "      <td>0.328619</td>\n",
       "      <td>0.322110</td>\n",
       "      <td>0.419620</td>\n",
       "      <td>0.172623</td>\n",
       "      <td>0.602935</td>\n",
       "      <td>...</td>\n",
       "      <td>0.377215</td>\n",
       "      <td>0.126463</td>\n",
       "      <td>0.331916</td>\n",
       "      <td>0.308558</td>\n",
       "      <td>0.314773</td>\n",
       "      <td>0.296309</td>\n",
       "      <td>0.315699</td>\n",
       "      <td>1.000000</td>\n",
       "      <td>-0.076115</td>\n",
       "      <td>0.516958</td>\n",
       "    </tr>\n",
       "    <tr>\n",
       "      <th>XEL</th>\n",
       "      <td>0.043389</td>\n",
       "      <td>0.207403</td>\n",
       "      <td>0.017283</td>\n",
       "      <td>0.047947</td>\n",
       "      <td>0.088059</td>\n",
       "      <td>0.059930</td>\n",
       "      <td>0.052570</td>\n",
       "      <td>0.076724</td>\n",
       "      <td>0.137857</td>\n",
       "      <td>-0.047259</td>\n",
       "      <td>...</td>\n",
       "      <td>-0.172752</td>\n",
       "      <td>0.074686</td>\n",
       "      <td>0.280371</td>\n",
       "      <td>0.407770</td>\n",
       "      <td>0.191667</td>\n",
       "      <td>-0.130798</td>\n",
       "      <td>0.209240</td>\n",
       "      <td>-0.076115</td>\n",
       "      <td>1.000000</td>\n",
       "      <td>-0.117552</td>\n",
       "    </tr>\n",
       "    <tr>\n",
       "      <th>XLNX</th>\n",
       "      <td>0.249667</td>\n",
       "      <td>0.289497</td>\n",
       "      <td>0.478010</td>\n",
       "      <td>0.200356</td>\n",
       "      <td>0.253934</td>\n",
       "      <td>0.221983</td>\n",
       "      <td>0.213764</td>\n",
       "      <td>0.389871</td>\n",
       "      <td>0.092808</td>\n",
       "      <td>0.687646</td>\n",
       "      <td>...</td>\n",
       "      <td>0.415079</td>\n",
       "      <td>0.142450</td>\n",
       "      <td>0.352529</td>\n",
       "      <td>0.193846</td>\n",
       "      <td>0.166732</td>\n",
       "      <td>0.276643</td>\n",
       "      <td>0.254117</td>\n",
       "      <td>0.516958</td>\n",
       "      <td>-0.117552</td>\n",
       "      <td>1.000000</td>\n",
       "    </tr>\n",
       "  </tbody>\n",
       "</table>\n",
       "<p>5 rows × 100 columns</p>\n",
       "</div>"
      ],
      "text/plain": [
       "          ATVI      ADBE       AMD      ALXN      ALGN     GOOGL      GOOG  \\\n",
       "WBA   0.218149  0.228106  0.281950  0.192720  0.219595  0.232900  0.230603   \n",
       "WDAY  0.311659  0.650430  0.407626  0.416396  0.308968  0.379493  0.371826   \n",
       "WDC   0.303077  0.361516  0.438892  0.289908  0.284407  0.328619  0.322110   \n",
       "XEL   0.043389  0.207403  0.017283  0.047947  0.088059  0.059930  0.052570   \n",
       "XLNX  0.249667  0.289497  0.478010  0.200356  0.253934  0.221983  0.213764   \n",
       "\n",
       "          AMZN      AMGN       ADI  ...      TCOM      ULTA      VRSN  \\\n",
       "WBA   0.288168  0.194490  0.347861  ...  0.257049  0.145330  0.195475   \n",
       "WDAY  0.424748  0.211712  0.351734  ...  0.235045  0.269545  0.569672   \n",
       "WDC   0.419620  0.172623  0.602935  ...  0.377215  0.126463  0.331916   \n",
       "XEL   0.076724  0.137857 -0.047259  ... -0.172752  0.074686  0.280371   \n",
       "XLNX  0.389871  0.092808  0.687646  ...  0.415079  0.142450  0.352529   \n",
       "\n",
       "          VRSK      VRTX       WBA      WDAY       WDC       XEL      XLNX  \n",
       "WBA   0.126118  0.214585  1.000000  0.211641  0.296309 -0.130798  0.276643  \n",
       "WDAY  0.401476  0.376047  0.211641  1.000000  0.315699  0.209240  0.254117  \n",
       "WDC   0.308558  0.314773  0.296309  0.315699  1.000000 -0.076115  0.516958  \n",
       "XEL   0.407770  0.191667 -0.130798  0.209240 -0.076115  1.000000 -0.117552  \n",
       "XLNX  0.193846  0.166732  0.276643  0.254117  0.516958 -0.117552  1.000000  \n",
       "\n",
       "[5 rows x 100 columns]"
      ]
     },
     "execution_count": 6,
     "metadata": {},
     "output_type": "execute_result"
    }
   ],
   "source": [
    "#create a train correlation matrix df\n",
    "rho = ret_train.iloc[:,1:].corr()\n",
    "\n",
    "#create a flexible length variable to genericize code for different sized indexes\n",
    "length = rho.shape[0]\n",
    "\n",
    "rho.tail()"
   ]
  },
  {
   "cell_type": "markdown",
   "id": "aa8725a9",
   "metadata": {},
   "source": [
    "#### Training Data Constraints"
   ]
  },
  {
   "cell_type": "code",
   "execution_count": 7,
   "id": "5ce076a3",
   "metadata": {
    "scrolled": true
   },
   "outputs": [
    {
     "data": {
      "text/plain": [
       "(100, 10000)"
      ]
     },
     "execution_count": 7,
     "metadata": {},
     "output_type": "execute_result"
    }
   ],
   "source": [
    "# Constraint 2 - all stocks (100 rows)\n",
    "# Each stock in the index can only be represented by 1 stock in the portfolio\n",
    "# Stack 100 identities horizontally to add up each portfolio stock representing an index stock and set to 1\n",
    "eye = np.eye(length)\n",
    "tile = np.tile(eye,length)\n",
    "tile.shape"
   ]
  },
  {
   "cell_type": "code",
   "execution_count": 8,
   "id": "8e68482b",
   "metadata": {},
   "outputs": [
    {
     "data": {
      "text/plain": [
       "(10000, 10100)"
      ]
     },
     "execution_count": 8,
     "metadata": {},
     "output_type": "execute_result"
    }
   ],
   "source": [
    "# Constraint 3 - fund stocks can only represent index stocks if selected\n",
    "repeat2 = np.repeat(eye*-1,length, axis=0)\n",
    "eye10k = np.eye(length*length)\n",
    "constr3 = np.concatenate((repeat2, eye10k), axis=1)\n",
    "constr3.shape"
   ]
  },
  {
   "cell_type": "markdown",
   "id": "8c91de39",
   "metadata": {},
   "source": [
    "#### Gurobi Inputs"
   ]
  },
  {
   "cell_type": "code",
   "execution_count": 9,
   "id": "e6b6168c",
   "metadata": {},
   "outputs": [
    {
     "data": {
      "text/plain": [
       "(10101, 10100)"
      ]
     },
     "execution_count": 9,
     "metadata": {},
     "output_type": "execute_result"
    }
   ],
   "source": [
    "corrA = np.zeros([length*(length+1)+1,length*(length+1)])\n",
    "corrA[0, :length] = 1 # Constraint 1 - total stocks selected must be m\n",
    "corrA[1:length+1, length:] = tile\n",
    "corrA[length+1:] = constr3\n",
    "corrA.shape"
   ]
  },
  {
   "cell_type": "code",
   "execution_count": 10,
   "id": "ec306ac1",
   "metadata": {},
   "outputs": [
    {
     "data": {
      "text/plain": [
       "array([5, 1, 1, ..., 0, 0, 0])"
      ]
     },
     "execution_count": 10,
     "metadata": {},
     "output_type": "execute_result"
    }
   ],
   "source": [
    "corrB = np.array([m] + [1]*length + [0]*length*length)\n",
    "corrB"
   ]
  },
  {
   "cell_type": "code",
   "execution_count": 11,
   "id": "258ab8c2",
   "metadata": {},
   "outputs": [
    {
     "data": {
      "text/plain": [
       "(10101,)"
      ]
     },
     "execution_count": 11,
     "metadata": {},
     "output_type": "execute_result"
    }
   ],
   "source": [
    "corrsense = np.array(['<']*(length*(length+1)+1))\n",
    "corrsense.shape"
   ]
  },
  {
   "cell_type": "code",
   "execution_count": 12,
   "id": "5fe844e9",
   "metadata": {
    "scrolled": true
   },
   "outputs": [
    {
     "data": {
      "text/plain": [
       "(10100,)"
      ]
     },
     "execution_count": 12,
     "metadata": {},
     "output_type": "execute_result"
    }
   ],
   "source": [
    "corrobj = np.concatenate(([0]*length, rho.values.flatten()), axis=0)\n",
    "corrobj.shape"
   ]
  },
  {
   "cell_type": "markdown",
   "id": "02fa9535",
   "metadata": {},
   "source": [
    "---"
   ]
  },
  {
   "cell_type": "markdown",
   "id": "0f13a5bc",
   "metadata": {},
   "source": [
    "---"
   ]
  },
  {
   "cell_type": "markdown",
   "id": "3810b804",
   "metadata": {},
   "source": [
    "---"
   ]
  },
  {
   "cell_type": "markdown",
   "id": "9672dc58",
   "metadata": {},
   "source": [
    "---"
   ]
  },
  {
   "cell_type": "markdown",
   "id": "8fbabe19",
   "metadata": {},
   "source": [
    "# Output - Optimize with 'm' Stocks"
   ]
  },
  {
   "cell_type": "markdown",
   "id": "661ef4bc",
   "metadata": {},
   "source": [
    "#### Optimize Stock Selection"
   ]
  },
  {
   "cell_type": "code",
   "execution_count": 13,
   "id": "36e7526b",
   "metadata": {},
   "outputs": [
    {
     "name": "stdout",
     "output_type": "stream",
     "text": [
      "Set parameter Username\n",
      "Academic license - for non-commercial use only - expires 2023-08-19\n"
     ]
    },
    {
     "data": {
      "text/plain": [
       "54.839906522291066"
      ]
     },
     "metadata": {},
     "output_type": "display_data"
    },
    {
     "data": {
      "text/plain": [
       "MSFT     53.0\n",
       "MXIM     30.0\n",
       "VRTX     10.0\n",
       "XEL       4.0\n",
       "LBTYK     3.0\n",
       "dtype: float64"
      ]
     },
     "metadata": {},
     "output_type": "display_data"
    },
    {
     "data": {
      "text/plain": [
       "['MSFT', 'MXIM', 'VRTX', 'XEL', 'LBTYK']"
      ]
     },
     "metadata": {},
     "output_type": "display_data"
    }
   ],
   "source": [
    "corrsum, portstocks, stockids, binarydf = optimize_corr(m)\n",
    "display(corrsum, portstocks, stockids)\n",
    "\n",
    "orig_corrsum = corrsum\n",
    "orig_portstocks = portstocks"
   ]
  },
  {
   "cell_type": "code",
   "execution_count": 14,
   "id": "40aa4c96",
   "metadata": {
    "scrolled": true
   },
   "outputs": [
    {
     "data": {
      "text/plain": [
       "MSFT     0.521191\n",
       "MXIM     0.573980\n",
       "VRTX     0.507679\n",
       "XEL      0.644000\n",
       "LBTYK    0.781527\n",
       "dtype: float64"
      ]
     },
     "execution_count": 14,
     "metadata": {},
     "output_type": "execute_result"
    }
   ],
   "source": [
    "#Correlation averages for portfolio stock and their index constituents\n",
    "(rho*binarydf).loc[stockids].T.mean()"
   ]
  },
  {
   "cell_type": "markdown",
   "id": "0d1ef901",
   "metadata": {},
   "source": [
    "#### Optimize Weights"
   ]
  },
  {
   "cell_type": "code",
   "execution_count": 15,
   "id": "706729ed",
   "metadata": {},
   "outputs": [
    {
     "data": {
      "text/plain": [
       "(0.7891782824631471,\n",
       " MSFT     0.580352\n",
       " MXIM     0.210388\n",
       " VRTX     0.071190\n",
       " XEL      0.089208\n",
       " LBTYK    0.048862\n",
       " dtype: float64)"
      ]
     },
     "execution_count": 15,
     "metadata": {},
     "output_type": "execute_result"
    }
   ],
   "source": [
    "errorsum, weights, errors = optimize_weights(ret_train, stockids)\n",
    "errorsum, weights"
   ]
  },
  {
   "cell_type": "markdown",
   "id": "d74a323c",
   "metadata": {},
   "source": [
    "# Output - Manual Evaluation"
   ]
  },
  {
   "cell_type": "markdown",
   "id": "bbfbcaf1",
   "metadata": {},
   "source": [
    "#### Training Set Validation"
   ]
  },
  {
   "cell_type": "code",
   "execution_count": 16,
   "id": "5294413b",
   "metadata": {},
   "outputs": [
    {
     "data": {
      "text/plain": [
       "0.7891782824631475"
      ]
     },
     "metadata": {},
     "output_type": "display_data"
    },
    {
     "data": {
      "text/plain": [
       "0.7891782824631475"
      ]
     },
     "metadata": {},
     "output_type": "display_data"
    }
   ],
   "source": [
    "trainsum, trainerrors = track_error(ret_train, stockids, weights)\n",
    "\n",
    "display(trainsum) #manual error calculation\n",
    "display(abs(errors.values).sum()) #gurobi error calculation"
   ]
  },
  {
   "cell_type": "markdown",
   "id": "4156e558",
   "metadata": {},
   "source": [
    "#### Test Set Evaluation"
   ]
  },
  {
   "cell_type": "code",
   "execution_count": 17,
   "id": "5b80d74a",
   "metadata": {},
   "outputs": [
    {
     "data": {
      "text/plain": [
       "0.8696699433741899"
      ]
     },
     "metadata": {},
     "output_type": "display_data"
    }
   ],
   "source": [
    "testsum, testerrors = track_error(ret_test, stockids, weights)\n",
    "display(testsum)"
   ]
  },
  {
   "cell_type": "markdown",
   "id": "d2cb72c0",
   "metadata": {},
   "source": [
    "# Output - Evaluating Various #s ('m') of Portfolio Stocks"
   ]
  },
  {
   "cell_type": "code",
   "execution_count": 98,
   "id": "86ac4ba9",
   "metadata": {},
   "outputs": [
    {
     "data": {
      "text/html": [
       "<div>\n",
       "<style scoped>\n",
       "    .dataframe tbody tr th:only-of-type {\n",
       "        vertical-align: middle;\n",
       "    }\n",
       "\n",
       "    .dataframe tbody tr th {\n",
       "        vertical-align: top;\n",
       "    }\n",
       "\n",
       "    .dataframe thead th {\n",
       "        text-align: right;\n",
       "    }\n",
       "</style>\n",
       "<table border=\"1\" class=\"dataframe\">\n",
       "  <thead>\n",
       "    <tr style=\"text-align: right;\">\n",
       "      <th></th>\n",
       "      <th>Test Error</th>\n",
       "      <th>Test Error - 250 Days Extrapolated</th>\n",
       "    </tr>\n",
       "  </thead>\n",
       "  <tbody>\n",
       "    <tr>\n",
       "      <th>10</th>\n",
       "      <td>0.838888</td>\n",
       "      <td>1.115542</td>\n",
       "    </tr>\n",
       "    <tr>\n",
       "      <th>20</th>\n",
       "      <td>0.652338</td>\n",
       "      <td>0.867471</td>\n",
       "    </tr>\n",
       "    <tr>\n",
       "      <th>30</th>\n",
       "      <td>0.573739</td>\n",
       "      <td>0.762951</td>\n",
       "    </tr>\n",
       "    <tr>\n",
       "      <th>40</th>\n",
       "      <td>0.600102</td>\n",
       "      <td>0.798008</td>\n",
       "    </tr>\n",
       "    <tr>\n",
       "      <th>50</th>\n",
       "      <td>0.582092</td>\n",
       "      <td>0.774059</td>\n",
       "    </tr>\n",
       "    <tr>\n",
       "      <th>60</th>\n",
       "      <td>0.798892</td>\n",
       "      <td>1.062357</td>\n",
       "    </tr>\n",
       "    <tr>\n",
       "      <th>70</th>\n",
       "      <td>0.613753</td>\n",
       "      <td>0.816161</td>\n",
       "    </tr>\n",
       "    <tr>\n",
       "      <th>80</th>\n",
       "      <td>0.393494</td>\n",
       "      <td>0.523263</td>\n",
       "    </tr>\n",
       "    <tr>\n",
       "      <th>90</th>\n",
       "      <td>0.247582</td>\n",
       "      <td>0.329231</td>\n",
       "    </tr>\n",
       "    <tr>\n",
       "      <th>100</th>\n",
       "      <td>0.249936</td>\n",
       "      <td>0.332362</td>\n",
       "    </tr>\n",
       "  </tbody>\n",
       "</table>\n",
       "</div>"
      ],
      "text/plain": [
       "     Test Error  Test Error - 250 Days Extrapolated\n",
       "10     0.838888                            1.115542\n",
       "20     0.652338                            0.867471\n",
       "30     0.573739                            0.762951\n",
       "40     0.600102                            0.798008\n",
       "50     0.582092                            0.774059\n",
       "60     0.798892                            1.062357\n",
       "70     0.613753                            0.816161\n",
       "80     0.393494                            0.523263\n",
       "90     0.247582                            0.329231\n",
       "100    0.249936                            0.332362"
      ]
     },
     "execution_count": 98,
     "metadata": {},
     "output_type": "execute_result"
    }
   ],
   "source": [
    "#m = 10, 20, 30, 40, 50, 60, 70, 80, 90, 100\n",
    "m_array = np.arange(10,101,10)\n",
    "total_error = []\n",
    "\n",
    "#loop through all m values and evaluate on test data\n",
    "for m in m_array:\n",
    "    corrsum, portstocks, stockids, binarydf = optimize_corr(m) #select stocks\n",
    "    errorsum, weights, errors = optimize_weights(ret_train, stockids) #select weights\n",
    "    testsum, testerrors = track_error(ret_test, stockids, weights) #evaluate on test data\n",
    "    total_error.append(testsum)\n",
    "\n",
    "#dataframe of errors results for m values\n",
    "mdf = pd.DataFrame({'Test Error': total_error}, index = m_array)\n",
    "mdf['Test Error - {} Days Extrapolated'.format(len(ret_train))] = mdf['Test Error']/len(ret_test)*len(ret_train)\n",
    "mdf"
   ]
  },
  {
   "cell_type": "code",
   "execution_count": 110,
   "id": "d2245766",
   "metadata": {},
   "outputs": [
    {
     "data": {
      "image/png": "[encoded data removed]",
      "text/plain": [
       "<Figure size 720x360 with 1 Axes>"
      ]
     },
     "metadata": {},
     "output_type": "display_data"
    }
   ],
   "source": [
    "plt.figure(figsize=(10,5))\n",
    "\n",
    "#m vs error plot\n",
    "sns.set_style(\"whitegrid\")\n",
    "sns.lineplot(data=mdf, marker='o')\n",
    "plt.xlabel('Number of Stocks in Portfolio')\n",
    "plt.ylabel('Total Error')\n",
    "plt.title('Total Error vs. Number of Stocks in Portfolio')\n",
    "for x,y in zip(mdf.index, mdf['Test Error']):\n",
    "    label = \"{:.2f}\".format(y)\n",
    "    plt.annotate(label, (x,y), textcoords=\"offset points\", xytext=(0,10), ha='center')\n",
    "for x,y in zip(mdf.index, mdf['Test Error - {} Days Extrapolated'.format(len(ret_train))]):\n",
    "    label = \"{:.2f}\".format(y)\n",
    "    plt.annotate(label, (x,y), textcoords=\"offset points\", xytext=(0,10), ha='center')\n",
    "plt.show()\n"
   ]
  },
  {
   "cell_type": "markdown",
   "id": "a1bc9001",
   "metadata": {},
   "source": [
    "# Big M Constraint"
   ]
  },
  {
   "cell_type": "code",
   "execution_count": 19,
   "id": "3d8d2633",
   "metadata": {},
   "outputs": [],
   "source": [
    "def bigMopt(m):\n",
    "    #create a flexible t variable to genericize code for different frequency and/or lengths of time\n",
    "    t = ret_train.shape[0]\n",
    "\n",
    "    #Constraint 1: All selected stocks must add up to m\n",
    "    mcon = np.array([[1]*n + [0]*n + [0]*t])\n",
    "\n",
    "    #Constraint 2: All weights must add up to 1\n",
    "    weightscon = np.array([[0]*n + [1]*n + [0]*t])\n",
    "\n",
    "    #Create stockrets matrix for coefficients of weights (constants)\n",
    "    stockrets = ret_train.iloc[:,1:1+n].values\n",
    "    #Make the negative mirror for absolute value\n",
    "    stockrets2 = -stockrets\n",
    "\n",
    "    #Create the slack variable identity matrix (negative)\n",
    "    slack = np.eye(t)*-1\n",
    "\n",
    "    #Add the slack for each period to the right of the returns for that period in both 'mirrors'\n",
    "    stockretscon = np.concatenate((np.zeros((t,n)),stockrets, slack),axis=1)\n",
    "    stockrets2con = np.concatenate((np.zeros((t,n)),stockrets2, slack),axis=1)\n",
    "\n",
    "    #Big M matrix\n",
    "    bigMcon = np.concatenate((np.eye(n)*-1, np.eye(n), np.zeros((n,t))), axis=1)\n",
    "\n",
    "    #Concatenate a whole constraint matrix with weights and both 'mirrors' of error matrices\n",
    "    constr = np.concatenate((mcon, weightscon, bigMcon, stockretscon, stockrets2con))\n",
    "\n",
    "    #Create the actual returns matrix (constants)\n",
    "    actrets = ret_train.iloc[:,0].values\n",
    "    actrets2 = -actrets\n",
    "\n",
    "    #Concatenate a whole RHS matrix with weight total and both 'mirrors' of actual returns matrices\n",
    "    rhs = np.concatenate(([m],[1],[0]*n,actrets, actrets2))\n",
    "\n",
    "    ### Gurobi Inputs\n",
    "    #objective is sum of error slack variables for all periods\n",
    "    obj = [0]*(2*n) + [1]*t\n",
    "    obj = np.array(obj)\n",
    "    A = constr\n",
    "    B = rhs\n",
    "    sense = ['=']*2 + [\"<\"]*(n+t*2) #twice as long because of absolute values\n",
    "\n",
    "    ### Optimize with Gurobi\n",
    "\n",
    "    model = gp.Model()\n",
    "\n",
    "    modX = model.addMVar(len(obj), vtype=['B']*n + ['C']*(n+t))\n",
    "    modCon = model.addMConstrs(A, modX, sense, B)\n",
    "\n",
    "    model.setMObjective(None, obj, 0, sense = gp.GRB.MINIMIZE)\n",
    "\n",
    "    model.Params.OutputFlag = 0\n",
    "    model.Params.TimeLimit = timeout\n",
    "\n",
    "    try:\n",
    "        model.optimize()\n",
    "    except Exception as e:\n",
    "        print(e)\n",
    "\n",
    "    if model.solCount == 0:\n",
    "        print(\"Model is infeasible\")\n",
    "\n",
    "    X = modX.x\n",
    "\n",
    "    # create a dataframe of the selected stocks, X, and their weights\n",
    "    stockdf = pd.DataFrame({'Stock': rho.index[:n], 'X': X[:n], 'Weight': X[n:n*2]})\n",
    "\n",
    "    # return stocks where x = 1\n",
    "    ids = stockdf[stockdf['X'] == 1]['Stock'].values\n",
    "\n",
    "    # return stockdf weight where stock is in ids\n",
    "    weights = stockdf[stockdf['Stock'].isin(ids)]['Weight'].values\n",
    "\n",
    "    testerror, testdf = track_error(ret_test, ids, weights)\n",
    "\n",
    "    return model.objVal, modX.x, stockdf, testerror, testdf"
   ]
  },
  {
   "cell_type": "code",
   "execution_count": 20,
   "id": "e9910ece",
   "metadata": {},
   "outputs": [
    {
     "data": {
      "text/html": [
       "<div>\n",
       "<style scoped>\n",
       "    .dataframe tbody tr th:only-of-type {\n",
       "        vertical-align: middle;\n",
       "    }\n",
       "\n",
       "    .dataframe tbody tr th {\n",
       "        vertical-align: top;\n",
       "    }\n",
       "\n",
       "    .dataframe thead th {\n",
       "        text-align: right;\n",
       "    }\n",
       "</style>\n",
       "<table border=\"1\" class=\"dataframe\">\n",
       "  <thead>\n",
       "    <tr style=\"text-align: right;\">\n",
       "      <th></th>\n",
       "      <th>Stock</th>\n",
       "      <th>X</th>\n",
       "      <th>Weight</th>\n",
       "    </tr>\n",
       "  </thead>\n",
       "  <tbody>\n",
       "    <tr>\n",
       "      <th>0</th>\n",
       "      <td>ATVI</td>\n",
       "      <td>0.0</td>\n",
       "      <td>0.0</td>\n",
       "    </tr>\n",
       "    <tr>\n",
       "      <th>1</th>\n",
       "      <td>ADBE</td>\n",
       "      <td>-0.0</td>\n",
       "      <td>0.0</td>\n",
       "    </tr>\n",
       "    <tr>\n",
       "      <th>2</th>\n",
       "      <td>AMD</td>\n",
       "      <td>0.0</td>\n",
       "      <td>0.0</td>\n",
       "    </tr>\n",
       "    <tr>\n",
       "      <th>3</th>\n",
       "      <td>ALXN</td>\n",
       "      <td>0.0</td>\n",
       "      <td>0.0</td>\n",
       "    </tr>\n",
       "    <tr>\n",
       "      <th>4</th>\n",
       "      <td>ALGN</td>\n",
       "      <td>0.0</td>\n",
       "      <td>0.0</td>\n",
       "    </tr>\n",
       "    <tr>\n",
       "      <th>...</th>\n",
       "      <td>...</td>\n",
       "      <td>...</td>\n",
       "      <td>...</td>\n",
       "    </tr>\n",
       "    <tr>\n",
       "      <th>95</th>\n",
       "      <td>WBA</td>\n",
       "      <td>0.0</td>\n",
       "      <td>0.0</td>\n",
       "    </tr>\n",
       "    <tr>\n",
       "      <th>96</th>\n",
       "      <td>WDAY</td>\n",
       "      <td>0.0</td>\n",
       "      <td>0.0</td>\n",
       "    </tr>\n",
       "    <tr>\n",
       "      <th>97</th>\n",
       "      <td>WDC</td>\n",
       "      <td>0.0</td>\n",
       "      <td>0.0</td>\n",
       "    </tr>\n",
       "    <tr>\n",
       "      <th>98</th>\n",
       "      <td>XEL</td>\n",
       "      <td>0.0</td>\n",
       "      <td>0.0</td>\n",
       "    </tr>\n",
       "    <tr>\n",
       "      <th>99</th>\n",
       "      <td>XLNX</td>\n",
       "      <td>0.0</td>\n",
       "      <td>0.0</td>\n",
       "    </tr>\n",
       "  </tbody>\n",
       "</table>\n",
       "<p>100 rows × 3 columns</p>\n",
       "</div>"
      ],
      "text/plain": [
       "   Stock    X  Weight\n",
       "0   ATVI  0.0     0.0\n",
       "1   ADBE -0.0     0.0\n",
       "2    AMD  0.0     0.0\n",
       "3   ALXN  0.0     0.0\n",
       "4   ALGN  0.0     0.0\n",
       "..   ...  ...     ...\n",
       "95   WBA  0.0     0.0\n",
       "96  WDAY  0.0     0.0\n",
       "97   WDC  0.0     0.0\n",
       "98   XEL  0.0     0.0\n",
       "99  XLNX  0.0     0.0\n",
       "\n",
       "[100 rows x 3 columns]"
      ]
     },
     "execution_count": 20,
     "metadata": {},
     "output_type": "execute_result"
    }
   ],
   "source": [
    "##### Simplifying the test run with smaller number of stocks in both the index and the fund\n",
    "\n",
    "\n",
    "# input an n that is <= len(rho) and >0\n",
    "while True:\n",
    "    try:\n",
    "        n = input(\"Enter a number between 1 and {}. (Or press ENTER for default value of {})\".format(len(rho), len(rho)))\n",
    "        if n == '':\n",
    "            n = len(rho)\n",
    "            break\n",
    "        else:\n",
    "            n = int(n)\n",
    "            if n <= 0 or n > len(rho):\n",
    "                print(\"Invalid number. Try again.\")\n",
    "            else:\n",
    "                break\n",
    "    except ValueError:\n",
    "        print(\"Invalid number. Try again.\")\n",
    "\n",
    "\n",
    "# select an m <= n\n",
    "while True:\n",
    "    try:\n",
    "        m = int(input('How many stocks would you like to select for m (INTEGERS ONLY)? Maximum = {}'.format(n)))\n",
    "        if m <= n and m > 0:\n",
    "            break\n",
    "        else:\n",
    "            print('Your choice of stocks is invalid. Try again.')\n",
    "            print('\\n')\n",
    "    except:\n",
    "        print('That was not an integer. Try again.')\n",
    "        print('\\n')\n",
    "\n",
    "trainerror, trainX, stockdf, testerror, testdf = bigMopt(m)\n",
    "\n",
    "stockdf"
   ]
  },
  {
   "cell_type": "markdown",
   "id": "cf34e879",
   "metadata": {},
   "source": [
    "# Long Question - Iterate Over Multiple Values of m (will be short if you chose a small n earlier. REMEMBER: the \"10-hr\" n we need to turn in is 100.)"
   ]
  },
  {
   "cell_type": "code",
   "execution_count": 21,
   "id": "e585939b",
   "metadata": {},
   "outputs": [
    {
     "name": "stdout",
     "output_type": "stream",
     "text": [
      "m = 10\n",
      "Trainerror = 0.3018622466422535\n",
      "Testerror = 0.5182203723542852\n",
      "\n",
      "\n",
      "m = 20\n",
      "Trainerror = 0.15750137571614828\n",
      "Testerror = 0.4074569525160368\n",
      "\n",
      "\n",
      "m = 30\n",
      "Trainerror = 0.1096518769909111\n",
      "Testerror = 0.3572869674680218\n",
      "\n",
      "\n",
      "m = 40\n",
      "Trainerror = 0.08252039283448265\n",
      "Testerror = 0.29502468189233616\n",
      "\n",
      "\n",
      "m = 50\n",
      "Trainerror = 0.061025439778543085\n",
      "Testerror = 0.27278868397768424\n",
      "\n",
      "\n",
      "m = 60\n",
      "Trainerror = 0.052295212006035784\n",
      "Testerror = 0.2541112885671767\n",
      "\n",
      "\n",
      "m = 70\n",
      "Trainerror = 0.04775059974948952\n",
      "Testerror = 0.24205612060734377\n",
      "\n",
      "\n",
      "m = 80\n",
      "Trainerror = 0.04522712091896977\n",
      "Testerror = 0.2491430959076978\n",
      "\n",
      "\n",
      "m = 90\n",
      "Trainerror = 0.04491081639360336\n",
      "Testerror = 0.24994327434030217\n",
      "\n",
      "\n",
      "m = 100\n",
      "Trainerror = 0.044910816408392805\n",
      "Testerror = 0.24993623175722907\n",
      "\n",
      "\n"
     ]
    },
    {
     "data": {
      "text/html": [
       "<div>\n",
       "<style scoped>\n",
       "    .dataframe tbody tr th:only-of-type {\n",
       "        vertical-align: middle;\n",
       "    }\n",
       "\n",
       "    .dataframe tbody tr th {\n",
       "        vertical-align: top;\n",
       "    }\n",
       "\n",
       "    .dataframe thead th {\n",
       "        text-align: right;\n",
       "    }\n",
       "</style>\n",
       "<table border=\"1\" class=\"dataframe\">\n",
       "  <thead>\n",
       "    <tr style=\"text-align: right;\">\n",
       "      <th></th>\n",
       "      <th>Train Error</th>\n",
       "      <th>Test Error</th>\n",
       "    </tr>\n",
       "  </thead>\n",
       "  <tbody>\n",
       "    <tr>\n",
       "      <th>10</th>\n",
       "      <td>0.301862</td>\n",
       "      <td>0.518220</td>\n",
       "    </tr>\n",
       "    <tr>\n",
       "      <th>20</th>\n",
       "      <td>0.157501</td>\n",
       "      <td>0.407457</td>\n",
       "    </tr>\n",
       "    <tr>\n",
       "      <th>30</th>\n",
       "      <td>0.109652</td>\n",
       "      <td>0.357287</td>\n",
       "    </tr>\n",
       "    <tr>\n",
       "      <th>40</th>\n",
       "      <td>0.082520</td>\n",
       "      <td>0.295025</td>\n",
       "    </tr>\n",
       "    <tr>\n",
       "      <th>50</th>\n",
       "      <td>0.061025</td>\n",
       "      <td>0.272789</td>\n",
       "    </tr>\n",
       "    <tr>\n",
       "      <th>60</th>\n",
       "      <td>0.052295</td>\n",
       "      <td>0.254111</td>\n",
       "    </tr>\n",
       "    <tr>\n",
       "      <th>70</th>\n",
       "      <td>0.047751</td>\n",
       "      <td>0.242056</td>\n",
       "    </tr>\n",
       "    <tr>\n",
       "      <th>80</th>\n",
       "      <td>0.045227</td>\n",
       "      <td>0.249143</td>\n",
       "    </tr>\n",
       "    <tr>\n",
       "      <th>90</th>\n",
       "      <td>0.044911</td>\n",
       "      <td>0.249943</td>\n",
       "    </tr>\n",
       "    <tr>\n",
       "      <th>100</th>\n",
       "      <td>0.044911</td>\n",
       "      <td>0.249936</td>\n",
       "    </tr>\n",
       "  </tbody>\n",
       "</table>\n",
       "</div>"
      ],
      "text/plain": [
       "     Train Error  Test Error\n",
       "10      0.301862    0.518220\n",
       "20      0.157501    0.407457\n",
       "30      0.109652    0.357287\n",
       "40      0.082520    0.295025\n",
       "50      0.061025    0.272789\n",
       "60      0.052295    0.254111\n",
       "70      0.047751    0.242056\n",
       "80      0.045227    0.249143\n",
       "90      0.044911    0.249943\n",
       "100     0.044911    0.249936"
      ]
     },
     "execution_count": 21,
     "metadata": {},
     "output_type": "execute_result"
    }
   ],
   "source": [
    "m_array = np.arange(np.ceil(n/10),np.ceil(n+1),np.ceil(n/10)).astype(int)\n",
    "\n",
    "stockdfs = []\n",
    "trainerrors = []\n",
    "testerrors = []\n",
    "for m in m_array:\n",
    "    trainerror, trainX, stockdf, testerror, testdf = bigMopt(m)\n",
    "    stockdfs.append(stockdf)\n",
    "    trainerrors.append(trainerror)\n",
    "    testerrors.append(testerror)\n",
    "    print('m = {}'.format(m))\n",
    "    print('Trainerror = {}'.format(trainerror))\n",
    "    print('Testerror = {}'.format(testerror))\n",
    "    print('\\n')\n",
    "\n",
    "#dataframe of errors results for m values\n",
    "errordf = pd.DataFrame({'Train Error': trainerrors, 'Test Error': testerrors}, index = m_array)\n",
    "errordf"
   ]
  },
  {
   "cell_type": "markdown",
   "id": "2d8f6f3c",
   "metadata": {},
   "source": [
    "# Summary"
   ]
  },
  {
   "cell_type": "code",
   "execution_count": 118,
   "id": "315f9e0d",
   "metadata": {},
   "outputs": [
    {
     "data": {
      "text/html": [
       "<div>\n",
       "<style scoped>\n",
       "    .dataframe tbody tr th:only-of-type {\n",
       "        vertical-align: middle;\n",
       "    }\n",
       "\n",
       "    .dataframe tbody tr th {\n",
       "        vertical-align: top;\n",
       "    }\n",
       "\n",
       "    .dataframe thead th {\n",
       "        text-align: right;\n",
       "    }\n",
       "</style>\n",
       "<table border=\"1\" class=\"dataframe\">\n",
       "  <thead>\n",
       "    <tr style=\"text-align: right;\">\n",
       "      <th></th>\n",
       "      <th>Test Error</th>\n",
       "      <th>Test Error - 250 Days Extrapolated</th>\n",
       "    </tr>\n",
       "  </thead>\n",
       "  <tbody>\n",
       "    <tr>\n",
       "      <th>10</th>\n",
       "      <td>0.518220</td>\n",
       "      <td>0.689123</td>\n",
       "    </tr>\n",
       "    <tr>\n",
       "      <th>20</th>\n",
       "      <td>0.407457</td>\n",
       "      <td>0.541831</td>\n",
       "    </tr>\n",
       "    <tr>\n",
       "      <th>30</th>\n",
       "      <td>0.357287</td>\n",
       "      <td>0.475116</td>\n",
       "    </tr>\n",
       "    <tr>\n",
       "      <th>40</th>\n",
       "      <td>0.295025</td>\n",
       "      <td>0.392320</td>\n",
       "    </tr>\n",
       "    <tr>\n",
       "      <th>50</th>\n",
       "      <td>0.272789</td>\n",
       "      <td>0.362751</td>\n",
       "    </tr>\n",
       "    <tr>\n",
       "      <th>60</th>\n",
       "      <td>0.254111</td>\n",
       "      <td>0.337914</td>\n",
       "    </tr>\n",
       "    <tr>\n",
       "      <th>70</th>\n",
       "      <td>0.242056</td>\n",
       "      <td>0.321883</td>\n",
       "    </tr>\n",
       "    <tr>\n",
       "      <th>80</th>\n",
       "      <td>0.249143</td>\n",
       "      <td>0.331307</td>\n",
       "    </tr>\n",
       "    <tr>\n",
       "      <th>90</th>\n",
       "      <td>0.249943</td>\n",
       "      <td>0.332371</td>\n",
       "    </tr>\n",
       "    <tr>\n",
       "      <th>100</th>\n",
       "      <td>0.249936</td>\n",
       "      <td>0.332362</td>\n",
       "    </tr>\n",
       "  </tbody>\n",
       "</table>\n",
       "</div>"
      ],
      "text/plain": [
       "     Test Error  Test Error - 250 Days Extrapolated\n",
       "10     0.518220                            0.689123\n",
       "20     0.407457                            0.541831\n",
       "30     0.357287                            0.475116\n",
       "40     0.295025                            0.392320\n",
       "50     0.272789                            0.362751\n",
       "60     0.254111                            0.337914\n",
       "70     0.242056                            0.321883\n",
       "80     0.249143                            0.331307\n",
       "90     0.249943                            0.332371\n",
       "100    0.249936                            0.332362"
      ]
     },
     "execution_count": 118,
     "metadata": {},
     "output_type": "execute_result"
    }
   ],
   "source": [
    "# normalizing test error to training data length (annual)\n",
    "errordf['Test Error - {} Days Extrapolated'.format(len(ret_train))] = errordf['Test Error']/len(ret_test)*len(ret_train)\n",
    "\n",
    "errdf1 = mdf\n",
    "errdf2 = errordf[['Test Error', 'Test Error - {} Days Extrapolated'.format(len(ret_train))]]\n",
    "\n",
    "errdf2"
   ]
  },
  {
   "cell_type": "code",
   "execution_count": 121,
   "id": "b42e08c4",
   "metadata": {},
   "outputs": [
    {
     "data": {
      "image/png": "[encoded data removed]",
      "text/plain": [
       "<Figure size 720x360 with 1 Axes>"
      ]
     },
     "metadata": {},
     "output_type": "display_data"
    }
   ],
   "source": [
    "#plotting the test error for each m value\n",
    "errordf['Test Error - {} Days Extrapolated'.format(len(ret_train))] = errordf['Test Error']/len(ret_test)*len(ret_train)\n",
    "\n",
    "plt.figure(figsize=(10,5))\n",
    "\n",
    "#m vs error plot\n",
    "sns.set_style(\"whitegrid\")\n",
    "sns.lineplot(data=errdf2, marker='o')\n",
    "plt.xlabel('Number of Stocks in Portfolio')\n",
    "plt.ylabel('Total Error')\n",
    "plt.title('Total Error vs. Number of Stocks in Portfolio')\n",
    "for x,y in zip(errdf2.index, errdf2['Test Error']):\n",
    "    label = \"{:.2f}\".format(y)\n",
    "    plt.annotate(label, (x,y), textcoords=\"offset points\", xytext=(0,10), ha='center')\n",
    "for x,y in zip(errdf2.index, errdf2.iloc[:,1]):\n",
    "    label = \"{:.2f}\".format(y)\n",
    "    plt.annotate(label, (x,y), textcoords=\"offset points\", xytext=(0,10), ha='center')\n",
    "plt.show()\n"
   ]
  },
  {
   "cell_type": "code",
   "execution_count": 140,
   "id": "315f9e0d",
   "metadata": {},
   "outputs": [
    {
     "data": {
      "image/png": "[encoded data removed]",
      "text/plain": [
       "<Figure size 1440x720 with 2 Axes>"
      ]
     },
     "metadata": {},
     "output_type": "display_data"
    }
   ],
   "source": [
    "#plotting test errors for each method at each m value\n",
    "errdf1 = mdf\n",
    "errdf2 = errordf[['Test Error', 'Test Error - {} Days Extrapolated'.format(len(ret_train))]]\n",
    "\n",
    "fig, (ax1, ax2) = plt.subplots(1, 2, figsize=(20,10))\n",
    "ax1.set_ylim(0, 1.5)\n",
    "ax2.set_ylim(0, 1.5)\n",
    "\n",
    "#first plot\n",
    "sns.set_style(\"whitegrid\")\n",
    "sns.lineplot(data=errdf1, marker='o', ax=ax1)\n",
    "ax1.set_xlabel('Number of Stocks in Portfolio')\n",
    "ax1.set_ylabel('Total Error')\n",
    "ax1.set_title('Select Stocks By Maximizing Correlation')\n",
    "for x,y in zip(errdf1.index, errdf1['Test Error']):\n",
    "    label = \"{:.2f}\".format(y)\n",
    "    ax1.annotate(label, (x,y), textcoords=\"offset points\", xytext=(0,10), ha='center')\n",
    "for x,y in zip(errdf1.index, errdf1.iloc[:,1]):\n",
    "    label = \"{:.2f}\".format(y)\n",
    "    ax1.annotate(label, (x,y), textcoords=\"offset points\", xytext=(0,10), ha='center')\n",
    "\n",
    "#big M plot\n",
    "sns.set_style(\"whitegrid\")\n",
    "sns.lineplot(data=errdf2, marker='o', ax=ax2)\n",
    "ax2.set_xlabel('Number of Stocks in Portfolio')\n",
    "ax2.set_ylabel('Total Error')\n",
    "ax2.set_title('Select Stocks By Minimizing Error')\n",
    "for x,y in zip(errdf2.index, errdf2['Test Error']):\n",
    "    label = \"{:.2f}\".format(y)\n",
    "    ax2.annotate(label, (x,y), textcoords=\"offset points\", xytext=(0,10), ha='center')\n",
    "for x,y in zip(errdf2.index, errdf2.iloc[:,1]):\n",
    "    label = \"{:.2f}\".format(y)\n",
    "    ax2.annotate(label, (x,y), textcoords=\"offset points\", xytext=(0,10), ha='center')\n",
    "\n",
    "plt.show()"
   ]
  },
  {
   "cell_type": "code",
   "execution_count": 178,
   "id": "57f1b092",
   "metadata": {},
   "outputs": [
    {
     "data": {
      "text/html": [
       "<div>\n",
       "<style scoped>\n",
       "    .dataframe tbody tr th:only-of-type {\n",
       "        vertical-align: middle;\n",
       "    }\n",
       "\n",
       "    .dataframe tbody tr th {\n",
       "        vertical-align: top;\n",
       "    }\n",
       "\n",
       "    .dataframe thead th {\n",
       "        text-align: right;\n",
       "    }\n",
       "</style>\n",
       "<table border=\"1\" class=\"dataframe\">\n",
       "  <thead>\n",
       "    <tr style=\"text-align: right;\">\n",
       "      <th></th>\n",
       "      <th>m</th>\n",
       "      <th>Total Cost</th>\n",
       "    </tr>\n",
       "  </thead>\n",
       "  <tbody>\n",
       "    <tr>\n",
       "      <th>0.25%</th>\n",
       "      <td>50</td>\n",
       "      <td>0.487751</td>\n",
       "    </tr>\n",
       "    <tr>\n",
       "      <th>0.5%</th>\n",
       "      <td>40</td>\n",
       "      <td>0.592320</td>\n",
       "    </tr>\n",
       "    <tr>\n",
       "      <th>0.75%</th>\n",
       "      <td>20</td>\n",
       "      <td>0.691831</td>\n",
       "    </tr>\n",
       "    <tr>\n",
       "      <th>1.0%</th>\n",
       "      <td>20</td>\n",
       "      <td>0.741831</td>\n",
       "    </tr>\n",
       "    <tr>\n",
       "      <th>1.25%</th>\n",
       "      <td>20</td>\n",
       "      <td>0.791831</td>\n",
       "    </tr>\n",
       "  </tbody>\n",
       "</table>\n",
       "</div>"
      ],
      "text/plain": [
       "        m  Total Cost\n",
       "0.25%  50    0.487751\n",
       "0.5%   40    0.592320\n",
       "0.75%  20    0.691831\n",
       "1.0%   20    0.741831\n",
       "1.25%  20    0.791831"
      ]
     },
     "execution_count": 178,
     "metadata": {},
     "output_type": "execute_result"
    }
   ],
   "source": [
    "# calculating total costs by factoring in transaction costs with various estimates of transactions costs\n",
    "# total cost = 250-day test error + transaction costs * m (assuming 0.25%, 0.5%, 0.75%, and 1% transaction costs)\n",
    "\n",
    "tcs = [0.0025, 0.005, 0.0075, 0.01, 0.0125]\n",
    "tcdfs = []\n",
    "tcmins = []\n",
    "for tc in tcs:\n",
    "    tc = tc\n",
    "    tempdf = errordf.copy()\n",
    "    tempdf['Transaction Costs'] = tc*tempdf.index\n",
    "    tempdf['Total Cost'] = tempdf.iloc[:, 2] + tempdf['Transaction Costs']\n",
    "    tcdfs.append(tempdf)\n",
    "    tcmins.append(tempdf.sort_values('Total Cost').reset_index().head(1))\n",
    "tcmins = pd.concat(tcmins)\n",
    "tcmins.index = ['{}%'.format(tc*100) for tc in tcs]\n",
    "tcmins.rename(columns = {'index': 'm'}, inplace = True)\n",
    "tcmins[['m', 'Total Cost']]"
   ]
  },
  {
   "cell_type": "code",
   "execution_count": 177,
   "id": "8fcc3047",
   "metadata": {},
   "outputs": [
    {
     "data": {
      "image/png": "[encoded data removed]",
      "text/plain": [
       "<Figure size 1080x792 with 1 Axes>"
      ]
     },
     "metadata": {},
     "output_type": "display_data"
    }
   ],
   "source": [
    "# plotting minimum total costs for each transaction cost estimate\n",
    "fig, ax = plt.subplots(figsize=(15, 11))\n",
    "for i in range(len(tcdfs)):\n",
    "    ax.plot(tcdfs[i].index, tcdfs[i]['Total Cost'], label = '{}%'.format(tcs[i]*100), marker = 'o')\n",
    "    for x,y in zip(tcdfs[i].index, tcdfs[i]['Total Cost']):\n",
    "        label = \"{:.2f}\".format(y)\n",
    "        if y == min(tcdfs[i]['Total Cost']):\n",
    "            ax.annotate(label, (x,y), textcoords=\"offset points\", xytext=(0,10), ha='center')\n",
    "ax.set_xlabel('m')\n",
    "ax.set_ylim(0, 1.5)\n",
    "ax.set_ylabel('Total Cost')\n",
    "ax.set_title('Total Cost vs. m')\n",
    "ax.legend()\n",
    "plt.show()\n"
   ]
  },
  {
   "cell_type": "markdown",
   "id": "cb5e4c35",
   "metadata": {},
   "source": [
    "---"
   ]
  },
  {
   "cell_type": "markdown",
   "id": "4e04e853",
   "metadata": {},
   "source": [
    "---"
   ]
  },
  {
   "cell_type": "markdown",
   "id": "bed91412",
   "metadata": {},
   "source": [
    "---"
   ]
  },
  {
   "cell_type": "markdown",
   "id": "e1a6d831",
   "metadata": {},
   "source": [
    "---"
   ]
  },
  {
   "cell_type": "markdown",
   "id": "22dbbe27",
   "metadata": {},
   "source": [
    "# Appendix - Stock Selection with [201 x 10,000] Constraint Matrix\n",
    "### (Instead of [10,101 x 10,100])"
   ]
  },
  {
   "cell_type": "markdown",
   "id": "c4a1932d",
   "metadata": {},
   "source": [
    "#### Training Data Constraints"
   ]
  },
  {
   "cell_type": "code",
   "execution_count": 22,
   "id": "6293abb5",
   "metadata": {},
   "outputs": [
    {
     "data": {
      "text/plain": [
       "array([[1., 0., 0., ..., 0., 0., 1.]])"
      ]
     },
     "execution_count": 22,
     "metadata": {},
     "output_type": "execute_result"
    }
   ],
   "source": [
    "# Constraint 1 - M Stocks Constraint on Whole Portfolio (1 row)\n",
    "# Any selected stock is guaranteed to represent itself because corr=1\n",
    "# Restrict stocks that represent themself to m.\n",
    "# Add up indeces where a stock is correlated with itself and sum constrainted to m.\n",
    "repeat1 = np.repeat(np.zeros([1,length]),length, axis = 1)\n",
    "\n",
    "for i in range(length):\n",
    "    repeat1[0,i*length+i] = 1\n",
    "\n",
    "repeat1"
   ]
  },
  {
   "cell_type": "code",
   "execution_count": 23,
   "id": "7ef2ce0a",
   "metadata": {
    "scrolled": true
   },
   "outputs": [
    {
     "data": {
      "text/plain": [
       "(100, 10000)"
      ]
     },
     "execution_count": 23,
     "metadata": {},
     "output_type": "execute_result"
    }
   ],
   "source": [
    "# Constraint 2 - all stocks (100 rows)\n",
    "# Each stock in the index can only be represented by 1 stock in the portfolio\n",
    "# Stack 100 identities horizontally to add up each portfolio stock representing an index stock and set to 1\n",
    "eye = np.eye(length)\n",
    "tile = np.tile(eye,length)\n",
    "tile.shape"
   ]
  },
  {
   "cell_type": "code",
   "execution_count": 24,
   "id": "86126704",
   "metadata": {},
   "outputs": [
    {
     "data": {
      "text/plain": [
       "array([[-99.,   1.,   1., ...,   0.,   0.,   0.],\n",
       "       [  0.,   0.,   0., ...,   0.,   0.,   0.],\n",
       "       [  0.,   0.,   0., ...,   0.,   0.,   0.],\n",
       "       ...,\n",
       "       [  0.,   0.,   0., ...,   0.,   0.,   0.],\n",
       "       [  0.,   0.,   0., ...,   0.,   0.,   0.],\n",
       "       [  0.,   0.,   0., ...,   1.,   1., -99.]])"
      ]
     },
     "execution_count": 24,
     "metadata": {},
     "output_type": "execute_result"
    }
   ],
   "source": [
    "# Constraint 3 - all stocks (100 rows)\n",
    "# Big M: A stock disallowed to represent itself is unselected. Meaning it cannot represent anything.\n",
    "# Constrain representing index stocks other than self to (n-1) times a chosen stock's representation of itself.\n",
    "# If chosen = 1, can represent all others (eg; 1 self + 99 others). If chosen = 0, cannot represent any others (0 self + 0 others).\n",
    "repeat3 = np.repeat(eye,length, axis = 1)\n",
    "\n",
    "for i in range(length):\n",
    "    repeat3[i, i*length+i] = -(length-1)\n",
    "\n",
    "repeat3"
   ]
  },
  {
   "cell_type": "markdown",
   "id": "f63abe5f",
   "metadata": {},
   "source": [
    "#### Gurobi Inputs"
   ]
  },
  {
   "cell_type": "code",
   "execution_count": 25,
   "id": "435597ff",
   "metadata": {},
   "outputs": [
    {
     "data": {
      "text/plain": [
       "array([[  1.,   0.,   0., ...,   0.,   0.,   1.],\n",
       "       [  1.,   0.,   0., ...,   0.,   0.,   0.],\n",
       "       [  0.,   1.,   0., ...,   0.,   0.,   0.],\n",
       "       ...,\n",
       "       [  0.,   0.,   0., ...,   0.,   0.,   0.],\n",
       "       [  0.,   0.,   0., ...,   0.,   0.,   0.],\n",
       "       [  0.,   0.,   0., ...,   1.,   1., -99.]])"
      ]
     },
     "execution_count": 25,
     "metadata": {},
     "output_type": "execute_result"
    }
   ],
   "source": [
    "corrA = np.zeros([length*2+1,length*length])\n",
    "corrA[0] = repeat1\n",
    "corrA[1:length+1] = tile\n",
    "corrA[length+1:] = repeat3\n",
    "corrA"
   ]
  },
  {
   "cell_type": "code",
   "execution_count": 26,
   "id": "81124a17",
   "metadata": {},
   "outputs": [
    {
     "data": {
      "text/plain": [
       "array([1, 1, 1, 1, 1, 1, 1, 1, 1, 1])"
      ]
     },
     "execution_count": 26,
     "metadata": {},
     "output_type": "execute_result"
    }
   ],
   "source": [
    "corrB = np.array([1] + [1]*length + [0]*length)\n",
    "corrB[:10]"
   ]
  },
  {
   "cell_type": "code",
   "execution_count": 27,
   "id": "71433a0a",
   "metadata": {},
   "outputs": [
    {
     "data": {
      "text/plain": [
       "['<', '<', '<', '<', '<', '<', '<', '<', '<', '<']"
      ]
     },
     "execution_count": 27,
     "metadata": {},
     "output_type": "execute_result"
    }
   ],
   "source": [
    "corrsense = ['<']*(2*length+1)\n",
    "corrsense[:10]"
   ]
  },
  {
   "cell_type": "code",
   "execution_count": 28,
   "id": "e6ac07cf",
   "metadata": {},
   "outputs": [
    {
     "data": {
      "text/plain": [
       "array([1.        , 0.39993857, 0.36537639, 0.22316198, 0.21627976,\n",
       "       0.43309741, 0.42677746, 0.46707572, 0.20395574, 0.32935498])"
      ]
     },
     "execution_count": 28,
     "metadata": {},
     "output_type": "execute_result"
    }
   ],
   "source": [
    "corrobj = rho.values.flatten()\n",
    "corrobj[:10]"
   ]
  },
  {
   "cell_type": "markdown",
   "id": "7908958e",
   "metadata": {},
   "source": [
    "# Output - Optimize with 'm' Stocks"
   ]
  },
  {
   "cell_type": "markdown",
   "id": "e8fdda31",
   "metadata": {},
   "source": [
    "#### Optimize Stock Selection"
   ]
  },
  {
   "cell_type": "code",
   "execution_count": 29,
   "id": "cfd0dbe7",
   "metadata": {
    "scrolled": false
   },
   "outputs": [
    {
     "data": {
      "text/plain": [
       "54.839906522291066"
      ]
     },
     "metadata": {},
     "output_type": "display_data"
    },
    {
     "data": {
      "text/plain": [
       "MSFT     53.0\n",
       "MXIM     30.0\n",
       "VRTX     10.0\n",
       "XEL       4.0\n",
       "LBTYK     3.0\n",
       "dtype: float64"
      ]
     },
     "metadata": {},
     "output_type": "display_data"
    },
    {
     "data": {
      "text/plain": [
       "54.83990652229107"
      ]
     },
     "metadata": {},
     "output_type": "display_data"
    },
    {
     "data": {
      "text/plain": [
       "MSFT     53.0\n",
       "MXIM     30.0\n",
       "VRTX     10.0\n",
       "XEL       4.0\n",
       "LBTYK     3.0\n",
       "dtype: float64"
      ]
     },
     "metadata": {},
     "output_type": "display_data"
    }
   ],
   "source": [
    "alt_corrsum, alt_portstocks, alt_stockids, alt_binarydf = optimize_corr(original_m)\n",
    "\n",
    "display(orig_corrsum)\n",
    "display(orig_portstocks)\n",
    "\n",
    "display(alt_corrsum)\n",
    "display(alt_portstocks)"
   ]
  }
 ],
 "metadata": {
  "kernelspec": {
   "display_name": "Python 3.8.9 64-bit",
   "language": "python",
   "name": "python3"
  },
  "language_info": {
   "codemirror_mode": {
    "name": "ipython",
    "version": 3
   },
   "file_extension": ".py",
   "mimetype": "text/x-python",
   "name": "python",
   "nbconvert_exporter": "python",
   "pygments_lexer": "ipython3",
   "version": "3.8.9"
  },
  "vscode": {
   "interpreter": {
    "hash": "31f2aee4e71d21fbe5cf8b01ff0e069b9275f58929596ceb00d14d90e3e16cd6"
   }
  }
 },
 "nbformat": 4,
 "nbformat_minor": 5
}
