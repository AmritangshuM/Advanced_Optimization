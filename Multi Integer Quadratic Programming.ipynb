{
 "cells": [
  {
   "cell_type": "markdown",
   "id": "5f7bd1dd",
   "metadata": {},
   "source": [
    "# Group Project 3 - Group 19"
   ]
  },
  {
   "cell_type": "markdown",
   "id": "f6392499",
   "metadata": {},
   "source": [
    "| **S.no** \t| Team Member                         \t|\n",
    "|:--------:\t|------------------------------\t|\n",
    "|     1    \t| Carlee Allen|\n",
    "|     2    \t|  Harshit Jain \t|\n",
    "|     3    \t| Sunil Kamkar Sheshagiri           \t|\n",
    "|     4    \t| Amritangshu Mukherjee        \t|"
   ]
  },
  {
   "cell_type": "markdown",
   "id": "63e46891",
   "metadata": {},
   "source": [
    "------------------------------------------------------"
   ]
  },
  {
   "cell_type": "markdown",
   "id": "c7067685",
   "metadata": {},
   "source": [
    "## Load Libraries"
   ]
  },
  {
   "cell_type": "code",
   "execution_count": 3,
   "id": "d20f73fe",
   "metadata": {},
   "outputs": [],
   "source": [
    "import numpy as np\n",
    "import pandas as pd\n",
    "import gurobipy as gp\n",
    "from gurobipy import GRB\n",
    "from scipy.optimize import minimize\n",
    "import matplotlib.pyplot as plt\n",
    "import seaborn as sns\n",
    "from sklearn.model_selection import KFold, GridSearchCV\n",
    "from sklearn.metrics import mean_absolute_error, mean_squared_error\n",
    "from sklearn.linear_model import LinearRegression, Lasso\n",
    "from sklearn import model_selection\n",
    "from sklearn.preprocessing import StandardScaler\n",
    "from sklearn.model_selection import train_test_split\n",
    "from sklearn.metrics import mean_squared_error\n",
    "from sklearn.metrics import r2_score\n",
    "import warnings\n",
    "warnings.filterwarnings('ignore')"
   ]
  },
  {
   "cell_type": "markdown",
   "id": "fea110f7",
   "metadata": {},
   "source": [
    "___________"
   ]
  },
  {
   "cell_type": "markdown",
   "id": "ba72236b",
   "metadata": {},
   "source": [
    "## Define Variables"
   ]
  },
  {
   "cell_type": "code",
   "execution_count": 4,
   "id": "3cccf638",
   "metadata": {},
   "outputs": [],
   "source": [
    "runtime_limit = 3600 # in seconds\n",
    "#m = 50\n",
    "M = 100 # large number\n",
    "list_of_k = [5,10,15,20,25,30,35,40,45,50] # list of k values how many variables to select\n",
    "n = 10 # number of folds for cross validation\n"
   ]
  },
  {
   "cell_type": "markdown",
   "id": "63cd9d95",
   "metadata": {},
   "source": [
    "________________"
   ]
  },
  {
   "cell_type": "markdown",
   "id": "52ff065e",
   "metadata": {},
   "source": [
    "## Data Load"
   ]
  },
  {
   "cell_type": "code",
   "execution_count": 5,
   "id": "dfd0bd05",
   "metadata": {},
   "outputs": [
    {
     "data": {
      "text/html": [
       "<div>\n",
       "<style scoped>\n",
       "    .dataframe tbody tr th:only-of-type {\n",
       "        vertical-align: middle;\n",
       "    }\n",
       "\n",
       "    .dataframe tbody tr th {\n",
       "        vertical-align: top;\n",
       "    }\n",
       "\n",
       "    .dataframe thead th {\n",
       "        text-align: right;\n",
       "    }\n",
       "</style>\n",
       "<table border=\"1\" class=\"dataframe\">\n",
       "  <thead>\n",
       "    <tr style=\"text-align: right;\">\n",
       "      <th></th>\n",
       "      <th>y</th>\n",
       "      <th>X1</th>\n",
       "      <th>X2</th>\n",
       "      <th>X3</th>\n",
       "      <th>X4</th>\n",
       "      <th>X5</th>\n",
       "      <th>X6</th>\n",
       "      <th>X7</th>\n",
       "      <th>X8</th>\n",
       "      <th>X9</th>\n",
       "      <th>...</th>\n",
       "      <th>X41</th>\n",
       "      <th>X42</th>\n",
       "      <th>X43</th>\n",
       "      <th>X44</th>\n",
       "      <th>X45</th>\n",
       "      <th>X46</th>\n",
       "      <th>X47</th>\n",
       "      <th>X48</th>\n",
       "      <th>X49</th>\n",
       "      <th>X50</th>\n",
       "    </tr>\n",
       "  </thead>\n",
       "  <tbody>\n",
       "    <tr>\n",
       "      <th>0</th>\n",
       "      <td>7.107949</td>\n",
       "      <td>-2.047008</td>\n",
       "      <td>0.260132</td>\n",
       "      <td>-0.785152</td>\n",
       "      <td>0.384576</td>\n",
       "      <td>-0.137613</td>\n",
       "      <td>-0.364566</td>\n",
       "      <td>-1.941253</td>\n",
       "      <td>-0.108180</td>\n",
       "      <td>-0.339223</td>\n",
       "      <td>...</td>\n",
       "      <td>-0.522194</td>\n",
       "      <td>1.861897</td>\n",
       "      <td>0.124511</td>\n",
       "      <td>1.144071</td>\n",
       "      <td>0.128179</td>\n",
       "      <td>-0.467972</td>\n",
       "      <td>-1.085601</td>\n",
       "      <td>0.659670</td>\n",
       "      <td>0.514719</td>\n",
       "      <td>0.806656</td>\n",
       "    </tr>\n",
       "    <tr>\n",
       "      <th>1</th>\n",
       "      <td>5.796272</td>\n",
       "      <td>-1.354328</td>\n",
       "      <td>-1.289884</td>\n",
       "      <td>1.321533</td>\n",
       "      <td>-0.091165</td>\n",
       "      <td>-1.021874</td>\n",
       "      <td>0.686778</td>\n",
       "      <td>0.089737</td>\n",
       "      <td>-0.398371</td>\n",
       "      <td>-0.261740</td>\n",
       "      <td>...</td>\n",
       "      <td>-0.502578</td>\n",
       "      <td>0.584476</td>\n",
       "      <td>0.680703</td>\n",
       "      <td>0.046788</td>\n",
       "      <td>0.569681</td>\n",
       "      <td>-1.099062</td>\n",
       "      <td>-0.069656</td>\n",
       "      <td>0.709273</td>\n",
       "      <td>-0.848665</td>\n",
       "      <td>0.996168</td>\n",
       "    </tr>\n",
       "    <tr>\n",
       "      <th>2</th>\n",
       "      <td>1.598651</td>\n",
       "      <td>0.502205</td>\n",
       "      <td>1.062887</td>\n",
       "      <td>1.460733</td>\n",
       "      <td>-1.506403</td>\n",
       "      <td>0.721664</td>\n",
       "      <td>0.528921</td>\n",
       "      <td>-0.699541</td>\n",
       "      <td>-0.270331</td>\n",
       "      <td>-2.544812</td>\n",
       "      <td>...</td>\n",
       "      <td>-0.125195</td>\n",
       "      <td>-1.292924</td>\n",
       "      <td>0.411785</td>\n",
       "      <td>-0.164210</td>\n",
       "      <td>-2.407403</td>\n",
       "      <td>-1.132500</td>\n",
       "      <td>0.452923</td>\n",
       "      <td>-0.945541</td>\n",
       "      <td>0.126523</td>\n",
       "      <td>-0.972075</td>\n",
       "    </tr>\n",
       "    <tr>\n",
       "      <th>3</th>\n",
       "      <td>2.532953</td>\n",
       "      <td>0.222381</td>\n",
       "      <td>-0.960747</td>\n",
       "      <td>-0.113762</td>\n",
       "      <td>1.935927</td>\n",
       "      <td>0.969387</td>\n",
       "      <td>-1.641403</td>\n",
       "      <td>0.026647</td>\n",
       "      <td>0.747138</td>\n",
       "      <td>-1.571784</td>\n",
       "      <td>...</td>\n",
       "      <td>-0.546915</td>\n",
       "      <td>-0.192517</td>\n",
       "      <td>0.603420</td>\n",
       "      <td>-0.277331</td>\n",
       "      <td>-1.451419</td>\n",
       "      <td>0.220775</td>\n",
       "      <td>0.474954</td>\n",
       "      <td>-0.160109</td>\n",
       "      <td>0.188047</td>\n",
       "      <td>-1.711229</td>\n",
       "    </tr>\n",
       "    <tr>\n",
       "      <th>4</th>\n",
       "      <td>0.590685</td>\n",
       "      <td>1.209949</td>\n",
       "      <td>1.586874</td>\n",
       "      <td>-0.694784</td>\n",
       "      <td>-0.226370</td>\n",
       "      <td>-0.152108</td>\n",
       "      <td>0.772356</td>\n",
       "      <td>-0.573741</td>\n",
       "      <td>-0.992492</td>\n",
       "      <td>-0.646661</td>\n",
       "      <td>...</td>\n",
       "      <td>-0.982236</td>\n",
       "      <td>-1.407777</td>\n",
       "      <td>0.094211</td>\n",
       "      <td>0.159960</td>\n",
       "      <td>-0.901612</td>\n",
       "      <td>-1.653122</td>\n",
       "      <td>0.393518</td>\n",
       "      <td>0.702539</td>\n",
       "      <td>0.552663</td>\n",
       "      <td>-0.773646</td>\n",
       "    </tr>\n",
       "  </tbody>\n",
       "</table>\n",
       "<p>5 rows × 51 columns</p>\n",
       "</div>"
      ],
      "text/plain": [
       "          y        X1        X2        X3        X4        X5        X6  \\\n",
       "0  7.107949 -2.047008  0.260132 -0.785152  0.384576 -0.137613 -0.364566   \n",
       "1  5.796272 -1.354328 -1.289884  1.321533 -0.091165 -1.021874  0.686778   \n",
       "2  1.598651  0.502205  1.062887  1.460733 -1.506403  0.721664  0.528921   \n",
       "3  2.532953  0.222381 -0.960747 -0.113762  1.935927  0.969387 -1.641403   \n",
       "4  0.590685  1.209949  1.586874 -0.694784 -0.226370 -0.152108  0.772356   \n",
       "\n",
       "         X7        X8        X9  ...       X41       X42       X43       X44  \\\n",
       "0 -1.941253 -0.108180 -0.339223  ... -0.522194  1.861897  0.124511  1.144071   \n",
       "1  0.089737 -0.398371 -0.261740  ... -0.502578  0.584476  0.680703  0.046788   \n",
       "2 -0.699541 -0.270331 -2.544812  ... -0.125195 -1.292924  0.411785 -0.164210   \n",
       "3  0.026647  0.747138 -1.571784  ... -0.546915 -0.192517  0.603420 -0.277331   \n",
       "4 -0.573741 -0.992492 -0.646661  ... -0.982236 -1.407777  0.094211  0.159960   \n",
       "\n",
       "        X45       X46       X47       X48       X49       X50  \n",
       "0  0.128179 -0.467972 -1.085601  0.659670  0.514719  0.806656  \n",
       "1  0.569681 -1.099062 -0.069656  0.709273 -0.848665  0.996168  \n",
       "2 -2.407403 -1.132500  0.452923 -0.945541  0.126523 -0.972075  \n",
       "3 -1.451419  0.220775  0.474954 -0.160109  0.188047 -1.711229  \n",
       "4 -0.901612 -1.653122  0.393518  0.702539  0.552663 -0.773646  \n",
       "\n",
       "[5 rows x 51 columns]"
      ]
     },
     "execution_count": 5,
     "metadata": {},
     "output_type": "execute_result"
    }
   ],
   "source": [
    "data_train = pd.read_csv('training_data.csv')\n",
    "data_test = pd.read_csv('test_data.csv')\n",
    "data_test.head()"
   ]
  },
  {
   "cell_type": "code",
   "execution_count": 6,
   "id": "eb180a93",
   "metadata": {},
   "outputs": [
    {
     "data": {
      "text/html": [
       "<div>\n",
       "<style scoped>\n",
       "    .dataframe tbody tr th:only-of-type {\n",
       "        vertical-align: middle;\n",
       "    }\n",
       "\n",
       "    .dataframe tbody tr th {\n",
       "        vertical-align: top;\n",
       "    }\n",
       "\n",
       "    .dataframe thead th {\n",
       "        text-align: right;\n",
       "    }\n",
       "</style>\n",
       "<table border=\"1\" class=\"dataframe\">\n",
       "  <thead>\n",
       "    <tr style=\"text-align: right;\">\n",
       "      <th></th>\n",
       "      <th>xtrain</th>\n",
       "      <th>ytrain</th>\n",
       "      <th>xtest</th>\n",
       "      <th>ytest</th>\n",
       "    </tr>\n",
       "  </thead>\n",
       "  <tbody>\n",
       "    <tr>\n",
       "      <th>0</th>\n",
       "      <td>(250, 50)</td>\n",
       "      <td>(250,)</td>\n",
       "      <td>(50, 50)</td>\n",
       "      <td>(50,)</td>\n",
       "    </tr>\n",
       "  </tbody>\n",
       "</table>\n",
       "</div>"
      ],
      "text/plain": [
       "      xtrain  ytrain     xtest  ytest\n",
       "0  (250, 50)  (250,)  (50, 50)  (50,)"
      ]
     },
     "execution_count": 6,
     "metadata": {},
     "output_type": "execute_result"
    }
   ],
   "source": [
    "#xtest in numpy\n",
    "xtest = data_test.iloc[:,1:].to_numpy()\n",
    "xtest.shape\n",
    "\n",
    "#xtrain in numpy\n",
    "xtrain = data_train.iloc[:,1:].to_numpy()\n",
    "xtrain.shape\n",
    "\n",
    "#ytrain in numpy\n",
    "ytrain = data_train.iloc[:,0].to_numpy()\n",
    "ytrain.shape\n",
    "\n",
    "#ytest in numpy\n",
    "ytest = data_test.iloc[:,0].to_numpy()\n",
    "ytest.shape\n",
    "\n",
    "#store shapes of xrain, ytrain, xtest, ytest in df\n",
    "df = pd.DataFrame(columns = ['xtrain','ytrain','xtest','ytest'])\n",
    "df.loc[0] = [xtrain.shape, ytrain.shape, xtest.shape, ytest.shape]\n",
    "df\n"
   ]
  },
  {
   "cell_type": "code",
   "execution_count": 7,
   "id": "bc322ba1",
   "metadata": {},
   "outputs": [
    {
     "data": {
      "text/plain": [
       "50"
      ]
     },
     "execution_count": 7,
     "metadata": {},
     "output_type": "execute_result"
    }
   ],
   "source": [
    "#m is number of x columns in training data\n",
    "m = xtrain.shape[1]\n",
    "m"
   ]
  },
  {
   "cell_type": "markdown",
   "id": "7615f540",
   "metadata": {},
   "source": [
    "_________________"
   ]
  },
  {
   "cell_type": "markdown",
   "id": "72f95473",
   "metadata": {},
   "source": [
    "## Question 1,2"
   ]
  },
  {
   "cell_type": "code",
   "execution_count": 8,
   "id": "cb177ce4",
   "metadata": {},
   "outputs": [],
   "source": [
    "#function to calculate beta coefficient given xtrain, ytrain, k\n",
    "def calculation_of_beta(X, y, k):\n",
    "    #X: n*p\n",
    "    #y: n*1\n",
    "    #k: [5,10,15,20,25,30,35,40,45,50]\n",
    "    #(m+1) values of 𝛽 and the m values of z\n",
    "    #b is the coefficients of the linear regression, z is the binary variable\n",
    "    # formula for quadratic program \n",
    "    Q = np.zeros((2*m+1, 2*m+1))\n",
    "    A = np.zeros((2*m+1, 2*m+1))\n",
    "    b = np.array([0]*(2*m+1))\n",
    "\n",
    "    #b vector to be a (2m+1) x 1 vector.\n",
    "    b[-1] = k\n",
    "\n",
    "    #A matrix to be a (2m+1) x (2m+1) matrix.\n",
    "    A[:,0] = 0\n",
    "    A[0:m, 1:m+1] = np.diag(np.ones(m))\n",
    "    A[0:m, m+1:2*m+1] = np.diag(np.ones(m))*M\n",
    "    A[m:2*m, 1:m+1] = np.diag(np.ones(m))\n",
    "    A[m:2*m, m+1:2*m+1] = np.diag(np.ones(m))*(-M)\n",
    "    A[2*m:2*m+1, m+1:2*m+1] = [1]*m\n",
    "\n",
    "    #B_t(X_t*𝑋)B + (−2*Y_t*𝑋)B\n",
    "    #Q matrix : X_t*𝑋 to be a (2m+1) x (2m+1) matrix where the upper left corner of the matrix is equal to XTX, and all other values are zero.\n",
    "    Xconstant = np.insert(X, 0, [1] * len(X), axis=1)\n",
    "    Q[0:m+1, 0:m+1] = np.transpose(Xconstant) @ Xconstant\n",
    "    \n",
    "    #c matrix : 2*Y_t*X We also need the linear term of the objective to be a (2m+1) x 1 vector where the first (m+1) components are -2yTX, and the rest are zeros.\n",
    "    constant_arr = np.zeros((len(Xconstant), 2*m+1))\n",
    "    constant_arr[0:len(Xconstant), 0:m+1] = Xconstant\n",
    "    c = -2 * np.transpose(y) @ constant_arr\n",
    "\n",
    "    #(m+1) values of 𝛽 and the m values of z\n",
    "    #sense to be a (2m+1) x 1 vector.\n",
    "    sense = np.array(['>']*m + ['<']*m +['<'])\n",
    "    #vtype to be a (2m+1) x 1 vector.\n",
    "    vtype=['C']*m+['C']+['B']*m\n",
    "    #lower bound lb to be a (2m+1) x 1 vector In order to allow your 𝛽s to be negative or positive you must set the lb value of your model to be -M for the appropriate decision variables.\n",
    "    lb = np.array([np.NINF] + [-M]*m + [0]*m)\n",
    "\n",
    "    #running the model-------------------------------------------------------------------------------\n",
    "    biMod = gp.Model()\n",
    "    biMod_x = biMod.addMVar(len(Q),lb=lb,vtype=vtype)\n",
    "    biMod.addMConstrs(A, biMod_x, sense, b)\n",
    "    biMod.setMObjective(Q,c,0,sense=gp.GRB.MINIMIZE)\n",
    "    biMod.Params.OutputFlag = 0 # tell gurobi to shut up!!\n",
    "    biMod.Params.TimeLimit = runtime_limit\n",
    "    biMod.optimize()\n",
    "    \n",
    "    coeficient = biMod_x.x\n",
    "    value_coeff=coeficient[0:m+1]\n",
    "    return value_coeff"
   ]
  },
  {
   "cell_type": "code",
   "execution_count": 9,
   "id": "73e3aef4",
   "metadata": {},
   "outputs": [
    {
     "name": "stdout",
     "output_type": "stream",
     "text": [
      "Using license file /Users/amritangshumukherjee/gurobi.lic\n",
      "Academic license - for non-commercial use only - expires 2023-08-17\n"
     ]
    },
    {
     "data": {
      "text/plain": [
       "array([ 0.95459795,  0.        ,  0.11960997,  0.38197755,  0.38759598,\n",
       "        0.        , -0.21327861,  0.57385268,  0.        , -2.78544608,\n",
       "        0.60362132,  0.        , -0.41859309,  0.54486423,  0.33755364,\n",
       "       -0.35817924, -0.21411056,  0.43553158,  0.6563841 ,  0.55925392,\n",
       "        0.91613607,  0.19474857, -0.4428736 , -1.17070892,  0.77931416,\n",
       "        0.        , -1.4964771 ,  0.        , -0.36489672,  0.38083221,\n",
       "        0.        , -0.20029246,  0.79033368,  0.        ,  1.29672001,\n",
       "       -0.51357219,  0.2407427 ,  0.19299609, -0.15701282, -1.10031968,\n",
       "        0.40954511, -0.67796522,  0.33893476, -0.47957257,  0.        ,\n",
       "        1.84890305,  0.        ,  1.0134497 ,  0.25087589,  0.51752253,\n",
       "       -0.21864319])"
      ]
     },
     "execution_count": 9,
     "metadata": {},
     "output_type": "execute_result"
    }
   ],
   "source": [
    "calculation_of_beta(xtrain, ytrain , 40)"
   ]
  },
  {
   "cell_type": "code",
   "execution_count": 10,
   "id": "b4ba8466",
   "metadata": {},
   "outputs": [],
   "source": [
    "#function to calculate the least square error given matrix of coeff, X, y\n",
    "def least_square_error(coeff, X, y):\n",
    "    #coeff: m+1*1\n",
    "    #X: n*p\n",
    "    #y: n*1\n",
    "    #formula for least square error\n",
    "    Xconstant = np.insert(X, 0, [1] * len(X), axis=1)\n",
    "    yhat = Xconstant @ coeff\n",
    "    return np.sum((y - yhat)**2)"
   ]
  },
  {
   "cell_type": "code",
   "execution_count": 11,
   "id": "cf7596ba",
   "metadata": {},
   "outputs": [
    {
     "data": {
      "text/plain": [
       "524.3706415803392"
      ]
     },
     "execution_count": 11,
     "metadata": {},
     "output_type": "execute_result"
    }
   ],
   "source": [
    "least_square_error(calculation_of_beta(xtrain, ytrain, 40), xtrain, ytrain)"
   ]
  },
  {
   "cell_type": "code",
   "execution_count": 12,
   "id": "b4127d1a",
   "metadata": {},
   "outputs": [],
   "source": [
    "def cross_validation(xtrain, ytrain, k):\n",
    "    #xtrain: n*p\n",
    "    #ytrain: n*1\n",
    "    #k: [5,10,15,20,25,30,35,40,45,50]\n",
    "    #formula for cross validation\n",
    "    #randomly shuffle your data and split it into 10 folds\n",
    "    index = np.arange(xtrain.shape[0])\n",
    "    np.random.shuffle(index)\n",
    "    xtrain = xtrain[index]\n",
    "    ytrain = ytrain[index]\n",
    "    #split data into 10 folds\n",
    "    xtrain_split = np.array_split(xtrain, n)\n",
    "    ytrain_split = np.array_split(ytrain, n)\n",
    "    df = pd.DataFrame(columns = ['coefficients','sse'])\n",
    "    #calculate the least square error of each fold\n",
    "    least_square_error_list = []\n",
    "    for i in range(n):\n",
    "        xtrain_cv = np.concatenate(xtrain_split[:i] + xtrain_split[i+1:])\n",
    "        ytrain_cv = np.concatenate(ytrain_split[:i] + ytrain_split[i+1:])\n",
    "        xtest_cv = xtrain_split[i]\n",
    "        ytest_cv = ytrain_split[i]\n",
    "        beta = calculation_of_beta(xtrain_cv, ytrain_cv, k)\n",
    "        least_square_error_list.append(least_square_error(beta, xtest_cv, ytest_cv))\n",
    "        df.loc[len(df)] = [beta,least_square_error_list[i]]\n",
    "    #calculate the average least square error\n",
    "    sse_sum = np.sum(least_square_error_list)\n",
    "    average_least_square_error = np.mean(least_square_error_list)\n",
    "    return df, sse_sum\n"
   ]
  },
  {
   "cell_type": "code",
   "execution_count": 13,
   "id": "f1cb11f5",
   "metadata": {},
   "outputs": [
    {
     "data": {
      "text/plain": [
       "(                                        coefficients         sse\n",
       " 0  [1.0402840932179527, 0.0, 0.0, 0.0, 0.0, 0.0, ...   84.346224\n",
       " 1  [1.124939815071779, 0.0, 0.0, 0.0, 0.0, 0.0, 0...   64.825504\n",
       " 2  [1.0510194780426658, 0.0, 0.0, 0.0, 0.0, 0.0, ...   36.054376\n",
       " 3  [1.0376260759453997, 0.0, 0.0, 0.0, 0.0, 0.0, ...  108.534169\n",
       " 4  [1.0899441233345692, 0.0, 0.0, 0.0, 0.0, 0.0, ...  124.435678\n",
       " 5  [1.0004343323028435, 0.0, 0.0, 0.0, 0.0, 0.0, ...  121.126727\n",
       " 6  [1.0612806685573943, 0.0, 0.0, 0.0, 0.0, 0.0, ...   97.945869\n",
       " 7  [1.0207981102766035, 0.0, 0.0, 0.0, 0.0, 0.0, ...   88.336211\n",
       " 8  [1.060311196214241, 0.0, 0.0, 0.0, 0.0, 0.0, 0...   47.209461\n",
       " 9  [1.0522889229377603, 0.0, 0.0, 0.0, 0.0, 0.0, ...  147.529661,\n",
       " 920.3438814863473)"
      ]
     },
     "execution_count": 13,
     "metadata": {},
     "output_type": "execute_result"
    }
   ],
   "source": [
    "cross_validation(xtrain, ytrain, 5)"
   ]
  },
  {
   "cell_type": "code",
   "execution_count": 18,
   "id": "baab2ef8",
   "metadata": {},
   "outputs": [
    {
     "name": "stdout",
     "output_type": "stream",
     "text": [
      "hold_data.csv exist\n",
      "Do you want to run the code?\n",
      "best k is 10\n",
      "best sse is 732.7652362429698\n"
     ]
    },
    {
     "data": {
      "text/html": [
       "<div>\n",
       "<style scoped>\n",
       "    .dataframe tbody tr th:only-of-type {\n",
       "        vertical-align: middle;\n",
       "    }\n",
       "\n",
       "    .dataframe tbody tr th {\n",
       "        vertical-align: top;\n",
       "    }\n",
       "\n",
       "    .dataframe thead th {\n",
       "        text-align: right;\n",
       "    }\n",
       "</style>\n",
       "<table border=\"1\" class=\"dataframe\">\n",
       "  <thead>\n",
       "    <tr style=\"text-align: right;\">\n",
       "      <th></th>\n",
       "      <th>Unnamed: 0</th>\n",
       "      <th>k</th>\n",
       "      <th>coefficients</th>\n",
       "      <th>sse</th>\n",
       "      <th>non zero coefficients</th>\n",
       "    </tr>\n",
       "  </thead>\n",
       "  <tbody>\n",
       "    <tr>\n",
       "      <th>0</th>\n",
       "      <td>0</td>\n",
       "      <td>5</td>\n",
       "      <td>[ 1.0515476   0.          0.          0.      ...</td>\n",
       "      <td>904.720295</td>\n",
       "      <td>6</td>\n",
       "    </tr>\n",
       "    <tr>\n",
       "      <th>1</th>\n",
       "      <td>1</td>\n",
       "      <td>10</td>\n",
       "      <td>[ 1.04911777  0.          0.          0.      ...</td>\n",
       "      <td>732.765236</td>\n",
       "      <td>11</td>\n",
       "    </tr>\n",
       "    <tr>\n",
       "      <th>2</th>\n",
       "      <td>2</td>\n",
       "      <td>15</td>\n",
       "      <td>[ 0.97472893  0.          0.          0.      ...</td>\n",
       "      <td>815.112243</td>\n",
       "      <td>16</td>\n",
       "    </tr>\n",
       "    <tr>\n",
       "      <th>3</th>\n",
       "      <td>3</td>\n",
       "      <td>20</td>\n",
       "      <td>[ 0.97583595  0.          0.          0.      ...</td>\n",
       "      <td>767.516963</td>\n",
       "      <td>21</td>\n",
       "    </tr>\n",
       "    <tr>\n",
       "      <th>4</th>\n",
       "      <td>4</td>\n",
       "      <td>25</td>\n",
       "      <td>[ 0.97496661  0.          0.          0.      ...</td>\n",
       "      <td>842.476040</td>\n",
       "      <td>26</td>\n",
       "    </tr>\n",
       "    <tr>\n",
       "      <th>5</th>\n",
       "      <td>5</td>\n",
       "      <td>30</td>\n",
       "      <td>[ 1.00418719  0.          0.          0.150896...</td>\n",
       "      <td>830.152190</td>\n",
       "      <td>31</td>\n",
       "    </tr>\n",
       "    <tr>\n",
       "      <th>6</th>\n",
       "      <td>6</td>\n",
       "      <td>35</td>\n",
       "      <td>[ 0.95228784 -0.33456727  0.          0.      ...</td>\n",
       "      <td>857.525990</td>\n",
       "      <td>36</td>\n",
       "    </tr>\n",
       "    <tr>\n",
       "      <th>7</th>\n",
       "      <td>7</td>\n",
       "      <td>40</td>\n",
       "      <td>[ 0.97166612  0.          0.22344874  0.507527...</td>\n",
       "      <td>815.700371</td>\n",
       "      <td>41</td>\n",
       "    </tr>\n",
       "    <tr>\n",
       "      <th>8</th>\n",
       "      <td>8</td>\n",
       "      <td>45</td>\n",
       "      <td>[ 1.02498121 -0.11957     0.16485703  0.367770...</td>\n",
       "      <td>880.390889</td>\n",
       "      <td>44</td>\n",
       "    </tr>\n",
       "    <tr>\n",
       "      <th>9</th>\n",
       "      <td>9</td>\n",
       "      <td>50</td>\n",
       "      <td>[ 0.91248791  0.00640476  0.139828    0.263579...</td>\n",
       "      <td>880.791201</td>\n",
       "      <td>51</td>\n",
       "    </tr>\n",
       "  </tbody>\n",
       "</table>\n",
       "</div>"
      ],
      "text/plain": [
       "   Unnamed: 0   k                                       coefficients  \\\n",
       "0           0   5  [ 1.0515476   0.          0.          0.      ...   \n",
       "1           1  10  [ 1.04911777  0.          0.          0.      ...   \n",
       "2           2  15  [ 0.97472893  0.          0.          0.      ...   \n",
       "3           3  20  [ 0.97583595  0.          0.          0.      ...   \n",
       "4           4  25  [ 0.97496661  0.          0.          0.      ...   \n",
       "5           5  30  [ 1.00418719  0.          0.          0.150896...   \n",
       "6           6  35  [ 0.95228784 -0.33456727  0.          0.      ...   \n",
       "7           7  40  [ 0.97166612  0.          0.22344874  0.507527...   \n",
       "8           8  45  [ 1.02498121 -0.11957     0.16485703  0.367770...   \n",
       "9           9  50  [ 0.91248791  0.00640476  0.139828    0.263579...   \n",
       "\n",
       "          sse  non zero coefficients  \n",
       "0  904.720295                      6  \n",
       "1  732.765236                     11  \n",
       "2  815.112243                     16  \n",
       "3  767.516963                     21  \n",
       "4  842.476040                     26  \n",
       "5  830.152190                     31  \n",
       "6  857.525990                     36  \n",
       "7  815.700371                     41  \n",
       "8  880.390889                     44  \n",
       "9  880.791201                     51  "
      ]
     },
     "execution_count": 18,
     "metadata": {},
     "output_type": "execute_result"
    }
   ],
   "source": [
    "#determine best value of k by testing k in list_of_k print best k and sse and mse\n",
    "\n",
    "#list_of_k = [5,10]\n",
    "list_of_k = [5,10,15,20,25,30,35,40,45,50]\n",
    "def best_k(xtrain, ytrain, list_of_k):\n",
    "    #xtrain: n*p\n",
    "    #ytrain: n*1\n",
    "    #list_of_k: [5,10,15,20,25,30,35,40,45,50]\n",
    "\n",
    "    sse_list = []\n",
    "    mse_list = []\n",
    "    #df to store k value and best coefficeint\n",
    "    temp_df = pd.DataFrame(columns = ['k','coefficients','sse','non zero coefficients'])\n",
    "    for k in list_of_k:\n",
    "        df, sse = cross_validation(xtrain, ytrain, k)\n",
    "        sse_list.append(sse)\n",
    "        mse_list.append(sse/len(xtrain))\n",
    "\n",
    "        #best set of coefficient in df\n",
    "        best_coeff = df.loc[df['sse'].idxmin()]['coefficients']\n",
    "        temp_df.loc[len(temp_df)] = [k, best_coeff, sse, np.count_nonzero(best_coeff)]\n",
    "\n",
    "    k_select = list_of_k[sse_list.index(min(sse_list))]\n",
    "    best_sse = min(sse_list)\n",
    "    return k_select, best_sse,temp_df\n",
    "\n",
    "#check if file hold_data.csv exist, if yes then ask for user input yes else run the code\n",
    "if os.path.isfile('hold_data.csv'):\n",
    "    print('hold_data.csv exist')\n",
    "    print('Do you want to run the code?')\n",
    "    user_input = input('yes or no')\n",
    "    if user_input == 'yes':\n",
    "        k_select, best_sse, temp_df = best_k(xtrain, ytrain, list_of_k)\n",
    "        print('best k is', k_select)\n",
    "        print('best sse is', best_sse)\n",
    "        temp_df.to_csv('hold_data.csv')\n",
    "        \n",
    "    else:\n",
    "        temp_df=pd.read_csv('hold_data.csv')\n",
    "        k_select = temp_df.loc[temp_df['sse'].idxmin()]['k']\n",
    "        print('best k is', temp_df.loc[temp_df['sse'].idxmin()]['k'])\n",
    "        print('best sse is', temp_df.loc[temp_df['sse'].idxmin()]['sse'])\n",
    "else:\n",
    "    k_select, best_sse, temp_df = best_k(xtrain, ytrain, list_of_k)\n",
    "    print('best k is', k_select)\n",
    "    print('best sse is', best_sse)\n",
    "    temp_df.to_csv('hold_data.csv')\n",
    "\n",
    "miqp_perf=temp_df\n",
    "miqp_perf"
   ]
  },
  {
   "cell_type": "code",
   "execution_count": 15,
   "id": "b02a711e",
   "metadata": {},
   "outputs": [
    {
     "data": {
      "image/png": "[encoded data removed]",
      "text/plain": [
       "<Figure size 720x144 with 1 Axes>"
      ]
     },
     "metadata": {
      "needs_background": "light"
     },
     "output_type": "display_data"
    }
   ],
   "source": [
    "coeff=temp_df.loc[temp_df['sse'].idxmin()]['coefficients']\n",
    "\n",
    "#check if \\n prsent in coeff\n",
    "if '\\n' in coeff:\n",
    "    coeff = coeff.replace('\\n', '')\n",
    "    coeff = coeff.replace('[', '')\n",
    "    coeff = coeff.replace(']', '')\n",
    "    coeff = coeff.split()\n",
    "    coeff = [float(i) for i in coeff]\n",
    "    coeff = np.array(coeff)\n",
    "\n",
    "plt.figure(figsize=(10,2))\n",
    "plt.bar(range(len(coeff)), coeff)\n",
    "plt.title('Coefficients for the best K value and lowest SSE')\n",
    "plt.xlabel('coefficients')\n",
    "plt.ylabel('value')\n",
    "plt.show()"
   ]
  },
  {
   "cell_type": "markdown",
   "id": "220d5808",
   "metadata": {},
   "source": [
    "________\n",
    "## Question 3"
   ]
  },
  {
   "cell_type": "code",
   "execution_count": 16,
   "id": "18b10de2",
   "metadata": {},
   "outputs": [
    {
     "name": "stdout",
     "output_type": "stream",
     "text": [
      "[ 6.17985878  5.09524299  3.28559532  3.75848539 -0.33297526 -5.14273683\n",
      " -3.14454357 -1.23806288  1.38511093 -0.44173854 -1.69500225  2.73035027\n",
      "  0.74744903 -0.97192232 -0.68681528  8.04522381 -7.94698471  3.89063974\n",
      " -4.58142919 -3.21992082 -2.16211454  3.21686318 -3.19810533  0.19740731\n",
      " -2.35988844 -0.41999885 -1.9125216  -3.32418587 -3.14170972 -3.55379324\n",
      " -1.80842543 -0.37134301  1.8670808   5.04927886 -1.80005614  3.09427675\n",
      "  4.38154309  2.6988627   1.6132886   5.97584637 -1.1973583   5.2232542\n",
      " -5.84899891 -1.14461528  4.51802998  4.18774866  4.12046008  0.61483809\n",
      "  1.95723246 -1.54904383]\n",
      "The sse on test data is 116.8271982276262\n",
      "The r2 on test data is 0.8586682910020946\n"
     ]
    }
   ],
   "source": [
    "#fit model on entire train data with best k\n",
    "best_coefficient=calculation_of_beta(xtrain, ytrain, k_select)\n",
    "\n",
    "#use the best coefficient to predict yhat on test data\n",
    "Xconstant = np.insert(xtest, 0, [1] * len(xtest), axis=1)\n",
    "yhat = Xconstant @ best_coefficient\n",
    "\n",
    "#print yhat\n",
    "print(yhat)\n",
    "\n",
    "#calculate sse on test data\n",
    "sse_test_MIQP = np.sum((ytest - yhat)**2)\n",
    "print('The sse on test data is', sse_test_MIQP)\n",
    "\n",
    "#calculate r2 on test data\n",
    "r2_test_MIQP = 1 - sse_test_MIQP/np.sum((ytest - np.mean(ytest))**2)\n",
    "print('The r2 on test data is', r2_test_MIQP)\n"
   ]
  },
  {
   "cell_type": "markdown",
   "id": "2c5bf0bb",
   "metadata": {},
   "source": [
    "__________________"
   ]
  },
  {
   "cell_type": "markdown",
   "id": "313dc219",
   "metadata": {},
   "source": [
    "## Question 4"
   ]
  },
  {
   "cell_type": "markdown",
   "id": "91aa2bb4",
   "metadata": {},
   "source": [
    "Use scikit learn to do 10-fold cross validation on the training set to pick 𝜆. Once you find the best value of 𝜆, fit a LASSO model to the entire training set using that value of 𝜆. With the 𝛽s you find in that LASSO model make a prediction of the y values in the test set."
   ]
  },
  {
   "cell_type": "code",
   "execution_count": 17,
   "id": "45d859a0",
   "metadata": {},
   "outputs": [],
   "source": [
    "#Use scikit learn to do 10-fold cross validation on the training set to pick lambda\n",
    "\n",
    "def cv_sse_score_lasso(X,y,alpha):\n",
    "    #X: n*p\n",
    "    #y: n*1\n",
    "    #alpha: [0.0001,0.001,0.01,0.1,1,10,100,1000]\n",
    "    #formula for cross validation\n",
    "    sse = 0\n",
    "    sse_sum=[]\n",
    "    sse_list=[]\n",
    "    kf = KFold(n_splits=n)\n",
    "    for train_index, test_index in kf.split(X):\n",
    "        X_train, X_test = X[train_index], X[test_index]\n",
    "        y_train, y_test = y[train_index], y[test_index]\n",
    "        lasso = Lasso(alpha=alpha)\n",
    "        lasso.fit(X_train, y_train)\n",
    "        yhat = lasso.predict(X_test)\n",
    "        sse = np.sum((y_test - yhat)**2)\n",
    "        sse_list.append(sse)\n",
    "    sse_sum = np.sum(sse_list)\n",
    "    average_least_square_error = np.mean(sse_list)\n",
    "    return sse_sum\n"
   ]
  },
  {
   "cell_type": "code",
   "execution_count": 19,
   "id": "fbf07bca",
   "metadata": {},
   "outputs": [],
   "source": [
    "#normalize the data using standard scaler\n",
    "import sklearn as sk \n",
    "from sklearn.preprocessing import StandardScaler\n",
    "scaler = StandardScaler()\n",
    "scaler.fit(xtrain)\n",
    "xtrain = scaler.transform(xtrain)\n",
    "xtest = scaler.transform(xtest)"
   ]
  },
  {
   "cell_type": "code",
   "execution_count": 21,
   "id": "e6f358ee",
   "metadata": {},
   "outputs": [
    {
     "data": {
      "text/plain": [
       "779.4268169845167"
      ]
     },
     "execution_count": 21,
     "metadata": {},
     "output_type": "execute_result"
    }
   ],
   "source": [
    "cv_sse_score_lasso(xtrain, ytrain, 0.01)"
   ]
  },
  {
   "cell_type": "code",
   "execution_count": 22,
   "id": "2c27948b",
   "metadata": {},
   "outputs": [
    {
     "name": "stdout",
     "output_type": "stream",
     "text": [
      "The best alpha is 0.08697490026177834 with sse 698.6599401836846\n"
     ]
    },
    {
     "data": {
      "text/html": [
       "<div>\n",
       "<style scoped>\n",
       "    .dataframe tbody tr th:only-of-type {\n",
       "        vertical-align: middle;\n",
       "    }\n",
       "\n",
       "    .dataframe tbody tr th {\n",
       "        vertical-align: top;\n",
       "    }\n",
       "\n",
       "    .dataframe thead th {\n",
       "        text-align: right;\n",
       "    }\n",
       "</style>\n",
       "<table border=\"1\" class=\"dataframe\">\n",
       "  <thead>\n",
       "    <tr style=\"text-align: right;\">\n",
       "      <th></th>\n",
       "      <th>alpha</th>\n",
       "      <th>sse</th>\n",
       "    </tr>\n",
       "  </thead>\n",
       "  <tbody>\n",
       "    <tr>\n",
       "      <th>0</th>\n",
       "      <td>1000.000000</td>\n",
       "      <td>4943.255428</td>\n",
       "    </tr>\n",
       "    <tr>\n",
       "      <th>1</th>\n",
       "      <td>869.749003</td>\n",
       "      <td>4943.255428</td>\n",
       "    </tr>\n",
       "    <tr>\n",
       "      <th>2</th>\n",
       "      <td>756.463328</td>\n",
       "      <td>4943.255428</td>\n",
       "    </tr>\n",
       "    <tr>\n",
       "      <th>3</th>\n",
       "      <td>657.933225</td>\n",
       "      <td>4943.255428</td>\n",
       "    </tr>\n",
       "    <tr>\n",
       "      <th>4</th>\n",
       "      <td>572.236766</td>\n",
       "      <td>4943.255428</td>\n",
       "    </tr>\n",
       "    <tr>\n",
       "      <th>...</th>\n",
       "      <td>...</td>\n",
       "      <td>...</td>\n",
       "    </tr>\n",
       "    <tr>\n",
       "      <th>95</th>\n",
       "      <td>0.001748</td>\n",
       "      <td>829.262092</td>\n",
       "    </tr>\n",
       "    <tr>\n",
       "      <th>96</th>\n",
       "      <td>0.001520</td>\n",
       "      <td>831.907798</td>\n",
       "    </tr>\n",
       "    <tr>\n",
       "      <th>97</th>\n",
       "      <td>0.001322</td>\n",
       "      <td>834.405489</td>\n",
       "    </tr>\n",
       "    <tr>\n",
       "      <th>98</th>\n",
       "      <td>0.001150</td>\n",
       "      <td>836.125828</td>\n",
       "    </tr>\n",
       "    <tr>\n",
       "      <th>99</th>\n",
       "      <td>0.001000</td>\n",
       "      <td>837.362708</td>\n",
       "    </tr>\n",
       "  </tbody>\n",
       "</table>\n",
       "<p>100 rows × 2 columns</p>\n",
       "</div>"
      ],
      "text/plain": [
       "          alpha          sse\n",
       "0   1000.000000  4943.255428\n",
       "1    869.749003  4943.255428\n",
       "2    756.463328  4943.255428\n",
       "3    657.933225  4943.255428\n",
       "4    572.236766  4943.255428\n",
       "..          ...          ...\n",
       "95     0.001748   829.262092\n",
       "96     0.001520   831.907798\n",
       "97     0.001322   834.405489\n",
       "98     0.001150   836.125828\n",
       "99     0.001000   837.362708\n",
       "\n",
       "[100 rows x 2 columns]"
      ]
     },
     "execution_count": 22,
     "metadata": {},
     "output_type": "execute_result"
    }
   ],
   "source": [
    "#best alpha using 10-fold cross validation on training set using cv_accuracy_score_lasso\n",
    "list_of_alpha = 10**np.linspace(3,-3,100)\n",
    "def best_alpha(xtrain, ytrain, list_of_alpha):\n",
    "    #xtrain: n*p\n",
    "    #ytrain: n*1\n",
    "    #list_of_alpha: 10**np.linspace(3,-3,100)\n",
    "    sse_list = []\n",
    "    #df to store alpha value and best coefficeint and sse\n",
    "    temp_df = pd.DataFrame(columns = ['alpha','sse'])\n",
    "    for alpha in list_of_alpha:\n",
    "        sse = cv_sse_score_lasso(xtrain, ytrain, alpha)\n",
    "        sse_list.append(sse)\n",
    "        temp_df.loc[len(temp_df)] = [alpha ,sse]\n",
    "\n",
    "    best_alpha = list_of_alpha[sse_list.index(min(sse_list))]\n",
    "    best_sse = min(sse_list)\n",
    "    return best_alpha, best_sse,temp_df\n",
    "\n",
    "alpha_select,sse,lambda_perf=best_alpha(xtrain, ytrain, list_of_alpha)\n",
    "print('The best alpha is', alpha_select, 'with sse', sse)\n",
    "lambda_perf\n"
   ]
  },
  {
   "cell_type": "code",
   "execution_count": 21,
   "id": "0529f61e",
   "metadata": {},
   "outputs": [
    {
     "name": "stdout",
     "output_type": "stream",
     "text": [
      "[ 6.07920695  4.91821176  3.22938558  3.57269902 -0.41887608 -4.95279151\n",
      " -2.82253586 -1.49669292  1.38204396 -0.24649558 -1.94669224  2.70686311\n",
      "  0.64573778 -0.50742459 -0.31804099  7.38066696 -7.5512808   3.59346235\n",
      " -4.39515901 -2.98833238 -1.94391142  3.33048512 -2.42365248  1.13284388\n",
      " -2.53660637 -0.1548456  -1.62646119 -2.31765893 -3.4659375  -3.71779758\n",
      " -1.66893203 -0.07897655  1.40503668  5.45240041 -1.2039636   2.37264021\n",
      "  4.74896634  3.12898857  1.55096086  5.85525208 -0.81404428  4.66488981\n",
      " -5.71830719 -1.21112084  4.25440206  4.09879276  3.83181804  0.61678184\n",
      "  1.89303431 -1.02668652]\n",
      "The sse on test data is 117.46879040592437\n",
      "The r2 on test data is 0.8578921248317659\n"
     ]
    }
   ],
   "source": [
    "#fit model on entire train data with best alpha\n",
    "lasso = Lasso(alpha=alpha_select)\n",
    "lasso.fit(xtrain, ytrain)\n",
    "yhat = lasso.predict(xtest)\n",
    "\n",
    "#print the first 10 yhat\n",
    "print(yhat)\n",
    "\n",
    "#calculate sse on test data\n",
    "sse_test_lasso = np.sum((ytest - yhat)**2)\n",
    "print('The sse on test data is', sse_test_lasso)\n",
    "\n",
    "#calculate r2 on test data\n",
    "r2_test_lasso = 1 - sse_test_lasso/np.sum((ytest - np.mean(ytest))**2)\n",
    "print('The r2 on test data is', r2_test_lasso)"
   ]
  },
  {
   "cell_type": "code",
   "execution_count": 22,
   "id": "674e6c96",
   "metadata": {},
   "outputs": [
    {
     "data": {
      "image/png": "[encoded data removed]",
      "text/plain": [
       "<Figure size 720x144 with 1 Axes>"
      ]
     },
     "metadata": {
      "needs_background": "light"
     },
     "output_type": "display_data"
    }
   ],
   "source": [
    "#plot the coefficients of lasso for best alpha\n",
    "plt.figure(figsize=(10,2))\n",
    "plt.bar(range(len(lasso.coef_)), lasso.coef_)\n",
    "plt.title('Coefficients for the best alpha value and lowest SSE')\n",
    "plt.xlabel('coefficients')\n",
    "plt.ylabel('value')\n",
    "plt.show()"
   ]
  },
  {
   "cell_type": "markdown",
   "id": "8c1b0604",
   "metadata": {},
   "source": [
    "____________________"
   ]
  },
  {
   "cell_type": "markdown",
   "id": "00f63a95",
   "metadata": {},
   "source": [
    "## Question 5 "
   ]
  },
  {
   "cell_type": "markdown",
   "id": "145bc25b",
   "metadata": {},
   "source": [
    "#### Compare Performace"
   ]
  },
  {
   "cell_type": "code",
   "execution_count": 23,
   "id": "de26e93b",
   "metadata": {},
   "outputs": [
    {
     "data": {
      "image/png": "[encoded data removed]",
      "text/plain": [
       "<Figure size 720x288 with 1 Axes>"
      ]
     },
     "metadata": {
      "needs_background": "light"
     },
     "output_type": "display_data"
    },
    {
     "data": {
      "text/html": [
       "<div>\n",
       "<style scoped>\n",
       "    .dataframe tbody tr th:only-of-type {\n",
       "        vertical-align: middle;\n",
       "    }\n",
       "\n",
       "    .dataframe tbody tr th {\n",
       "        vertical-align: top;\n",
       "    }\n",
       "\n",
       "    .dataframe thead th {\n",
       "        text-align: right;\n",
       "    }\n",
       "</style>\n",
       "<table border=\"1\" class=\"dataframe\">\n",
       "  <thead>\n",
       "    <tr style=\"text-align: right;\">\n",
       "      <th></th>\n",
       "      <th>method</th>\n",
       "      <th>sse</th>\n",
       "      <th>r2</th>\n",
       "      <th>number of non zero coefficients</th>\n",
       "    </tr>\n",
       "  </thead>\n",
       "  <tbody>\n",
       "    <tr>\n",
       "      <th>0</th>\n",
       "      <td>MIQP</td>\n",
       "      <td>116.827198</td>\n",
       "      <td>0.858668</td>\n",
       "      <td>11</td>\n",
       "    </tr>\n",
       "    <tr>\n",
       "      <th>1</th>\n",
       "      <td>lasso</td>\n",
       "      <td>117.468790</td>\n",
       "      <td>0.857892</td>\n",
       "      <td>17</td>\n",
       "    </tr>\n",
       "  </tbody>\n",
       "</table>\n",
       "</div>"
      ],
      "text/plain": [
       "  method         sse        r2  number of non zero coefficients\n",
       "0   MIQP  116.827198  0.858668                               11\n",
       "1  lasso  117.468790  0.857892                               17"
      ]
     },
     "execution_count": 23,
     "metadata": {},
     "output_type": "execute_result"
    }
   ],
   "source": [
    "#compare performance of MIQP and lasso on test data\n",
    "compare = pd.DataFrame(columns = ['method','sse','r2','number of non zero coefficients'])\n",
    "compare.loc[len(compare)] = ['MIQP', sse_test_MIQP, r2_test_MIQP, len(best_coefficient[best_coefficient!=0])]\n",
    "compare.loc[len(compare)] = ['lasso', sse_test_lasso, r2_test_lasso, len(lasso.coef_[lasso.coef_!=0])]\n",
    "\n",
    "\n",
    "#plot BAR the performance of MIQP and lasso on test data sse\n",
    "plt.figure(figsize=(10,4))\n",
    "sns.set_style(\"whitegrid\")\n",
    "sns.barplot(x='method', y='sse', data=compare, palette='Set2')\n",
    "plt.axhline(y=sse_test_MIQP, color='r', linestyle='-')\n",
    "plt.ylim(115,120)\n",
    "plt.show()\n",
    "\n",
    "compare\n",
    "\n"
   ]
  },
  {
   "cell_type": "code",
   "execution_count": 24,
   "id": "49b3117f",
   "metadata": {},
   "outputs": [
    {
     "data": {
      "image/png": "[encoded data removed]",
      "text/plain": [
       "<Figure size 1296x432 with 2 Axes>"
      ]
     },
     "metadata": {},
     "output_type": "display_data"
    }
   ],
   "source": [
    "#show subplot of lasso alpha vs sse\n",
    "fig, ax = plt.subplots(1, 2, figsize=(18, 6))\n",
    "ax[0].plot(np.log(lambda_perf['alpha']), lambda_perf['sse'])\n",
    "ax[0].axvline(x=np.log(alpha_select), color='r')\n",
    "ax[0].set_xlabel('log(alpha)')\n",
    "ax[0].set_ylabel('sse')\n",
    "ax[0].set_title('Lasso alpha vs sse in log scale')\n",
    "ax[1].plot(lambda_perf['alpha'], lambda_perf['sse'])\n",
    "ax[1].axvline(x=alpha_select, color='r')\n",
    "ax[1].set_xlabel('alpha')\n",
    "ax[1].set_ylabel('sse')\n",
    "ax[1].set_title('Lasso alpha vs sse')\n",
    "ax[1].set_xlim(0, 1)\n",
    "plt.show()\n"
   ]
  },
  {
   "cell_type": "code",
   "execution_count": 29,
   "id": "504d7204",
   "metadata": {},
   "outputs": [
    {
     "data": {
      "image/png": "[encoded data removed]",
      "text/plain": [
       "<Figure size 720x288 with 1 Axes>"
      ]
     },
     "metadata": {},
     "output_type": "display_data"
    }
   ],
   "source": [
    "#plot miqp_perf k vs sse add title\n",
    "plt.figure(figsize=(10,4))\n",
    "#add title in plot\n",
    "plt.title('MIQP k vs sse')\n",
    "#add axis\n",
    "plt.xlabel('k')\n",
    "plt.ylabel('sse')\n",
    "plt.plot(miqp_perf['k'], miqp_perf['sse'])\n",
    "plt.axvline(x=k_select, color='r', linestyle='-')\n",
    "plt.show()"
   ]
  },
  {
   "cell_type": "code",
   "execution_count": 26,
   "id": "de4279d1",
   "metadata": {},
   "outputs": [
    {
     "data": {
      "text/plain": [
       "<Figure size 720x720 with 0 Axes>"
      ]
     },
     "metadata": {},
     "output_type": "display_data"
    },
    {
     "data": {
      "image/png": "[encoded data removed]",
      "text/plain": [
       "<Figure size 720x720 with 2 Axes>"
      ]
     },
     "metadata": {},
     "output_type": "display_data"
    }
   ],
   "source": [
    "#plot miqp vs different k\n",
    "list_of_k = [5,10,15,20,25,30,35,40,45,50]\n",
    "coefficients_miqp = []\n",
    "for k in list_of_k:\n",
    "    coefs = calculation_of_beta(xtrain, ytrain, k)\n",
    "    coefficients_miqp.append(coefs)\n",
    "    \n",
    "# Plot the coefficients learned for all of the alpha in lasso\n",
    "coefficients_lasso = []\n",
    "for alpha in list_of_alpha:\n",
    "    model = Lasso(alpha)\n",
    "    model.fit(xtrain, ytrain) # Fit the model\n",
    "    coefficients_lasso.append(model.coef_)\n",
    "\n",
    "#compare miqp and lasso in subplots\n",
    "plt.figure(figsize=(10, 10))\n",
    "fig, axs = plt.subplots(2, 1, figsize=(10, 10))\n",
    "axs[0].plot(np.asarray(list_of_k), coefficients_miqp)\n",
    "axs[0].set_xlim(55, 0)\n",
    "axs[0].set_title('MIQP coefficients as a function of the k')\n",
    "axs[1].plot(list_of_alpha, coefficients_lasso)\n",
    "axs[1].set_xscale('log')\n",
    "axs[1].set_title('Lasso coefficients as a function of the regularization')\n",
    "plt.show()"
   ]
  },
  {
   "cell_type": "code",
   "execution_count": 27,
   "id": "2157ef8e",
   "metadata": {},
   "outputs": [
    {
     "data": {
      "text/plain": [
       "<Figure size 720x720 with 0 Axes>"
      ]
     },
     "metadata": {},
     "output_type": "display_data"
    },
    {
     "data": {
      "image/png": "[encoded data removed]",
      "text/plain": [
       "<Figure size 720x720 with 2 Axes>"
      ]
     },
     "metadata": {},
     "output_type": "display_data"
    }
   ],
   "source": [
    "#subplots to compare number of non zero coefficients of miqp and lasso wrt to best k and best alpha\n",
    "plt.figure(figsize=(10, 10))\n",
    "fig, axs = plt.subplots(2, 1, figsize=(10, 10))\n",
    "axs[0].plot(np.asarray(list_of_k), np.sum(np.abs(coefficients_miqp) > 1e-10, axis=1))\n",
    "axs[0].set_xlim(55, 0)\n",
    "axs[0].set_title('MIQP number of non zero coefficients as a function of the k')\n",
    "axs[1].plot(list_of_alpha, np.sum(np.abs(coefficients_lasso) > 1e-10, axis=1))\n",
    "axs[1].set_xscale('log')\n",
    "axs[1].set_title('Lasso number of non zero coefficients as a function of the regularization')\n",
    "plt.show()\n"
   ]
  },
  {
   "cell_type": "code",
   "execution_count": 28,
   "id": "72cb7156",
   "metadata": {},
   "outputs": [
    {
     "data": {
      "image/png": "[encoded data removed]",
      "text/plain": [
       "<Figure size 1224x720 with 2 Axes>"
      ]
     },
     "metadata": {},
     "output_type": "display_data"
    }
   ],
   "source": [
    "#subplots to compare coefficients of miqp and lasso wrt to best k and best alpha\n",
    "fig, axs = plt.subplots(2, 1, figsize=(17, 10))\n",
    "axs[0].bar(range(len(coeff)), coeff)\n",
    "axs[0].set_title('MIQP coefficients for best k and lowest sse')\n",
    "axs[1].bar(range(len(lasso.coef_)), lasso.coef_)\n",
    "axs[1].set_title('Lasso coefficients for best alpha and lowest sse')\n",
    "plt.show()\n"
   ]
  },
  {
   "cell_type": "markdown",
   "id": "d3730094",
   "metadata": {},
   "source": [
    "_____________"
   ]
  }
 ],
 "metadata": {
  "kernelspec": {
   "display_name": "Python 3.9.12 ('base')",
   "language": "python",
   "name": "python3"
  },
  "language_info": {
   "codemirror_mode": {
    "name": "ipython",
    "version": 3
   },
   "file_extension": ".py",
   "mimetype": "text/x-python",
   "name": "python",
   "nbconvert_exporter": "python",
   "pygments_lexer": "ipython3",
   "version": "3.9.12"
  },
  "vscode": {
   "interpreter": {
    "hash": "3269648d6e0651c7b5af5f4cc25230a3f1cf3e7083e49973e49ed0b67b18f016"
   }
  }
 },
 "nbformat": 4,
 "nbformat_minor": 5
}
