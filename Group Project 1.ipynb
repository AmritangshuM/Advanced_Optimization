{
 "cells": [
  {
   "attachments": {},
   "cell_type": "markdown",
   "metadata": {},
   "source": [
    "____________________\n",
    "# Optimization II Project 1 - Stochastic Programming Report"
   ]
  },
  {
   "attachments": {},
   "cell_type": "markdown",
   "metadata": {},
   "source": [
    "| S.No \t| First name   \t| Last name \t| Id       \t|\n",
    "|------\t|--------------\t|-----------\t|----------\t|\n",
    "| 1    \t| Amritangshu  \t| Mukherjee \t| am222239 \t|\n",
    "| 2    \t| Boran        \t| Sheu      \t| bs42973  \t|\n",
    "| 3    \t| Jason        \t| Nania     \t| jn28878  \t|\n",
    "| 4    \t| Olivia       \t| Lee       \t| rl29986  \t|"
   ]
  },
  {
   "attachments": {},
   "cell_type": "markdown",
   "metadata": {},
   "source": [
    "________________________"
   ]
  },
  {
   "cell_type": "code",
   "execution_count": 2,
   "metadata": {},
   "outputs": [
    {
     "name": "stderr",
     "output_type": "stream",
     "text": [
      "<frozen importlib._bootstrap>:228: RuntimeWarning: scipy._lib.messagestream.MessageStream size changed, may indicate binary incompatibility. Expected 56 from C header, got 64 from PyObject\n"
     ]
    },
    {
     "name": "stdout",
     "output_type": "stream",
     "text": [
      "Number of days of demand data:  99\n"
     ]
    },
    {
     "data": {
      "text/html": [
       "<div>\n",
       "<style scoped>\n",
       "    .dataframe tbody tr th:only-of-type {\n",
       "        vertical-align: middle;\n",
       "    }\n",
       "\n",
       "    .dataframe tbody tr th {\n",
       "        vertical-align: top;\n",
       "    }\n",
       "\n",
       "    .dataframe thead th {\n",
       "        text-align: right;\n",
       "    }\n",
       "</style>\n",
       "<table border=\"1\" class=\"dataframe\">\n",
       "  <thead>\n",
       "    <tr style=\"text-align: right;\">\n",
       "      <th></th>\n",
       "      <th>price</th>\n",
       "      <th>demand</th>\n",
       "    </tr>\n",
       "  </thead>\n",
       "  <tbody>\n",
       "    <tr>\n",
       "      <th>0</th>\n",
       "      <td>1.05</td>\n",
       "      <td>283</td>\n",
       "    </tr>\n",
       "    <tr>\n",
       "      <th>1</th>\n",
       "      <td>0.86</td>\n",
       "      <td>771</td>\n",
       "    </tr>\n",
       "    <tr>\n",
       "      <th>2</th>\n",
       "      <td>1.21</td>\n",
       "      <td>185</td>\n",
       "    </tr>\n",
       "    <tr>\n",
       "      <th>3</th>\n",
       "      <td>0.94</td>\n",
       "      <td>531</td>\n",
       "    </tr>\n",
       "    <tr>\n",
       "      <th>4</th>\n",
       "      <td>0.76</td>\n",
       "      <td>1002</td>\n",
       "    </tr>\n",
       "    <tr>\n",
       "      <th>...</th>\n",
       "      <td>...</td>\n",
       "      <td>...</td>\n",
       "    </tr>\n",
       "    <tr>\n",
       "      <th>94</th>\n",
       "      <td>1.13</td>\n",
       "      <td>321</td>\n",
       "    </tr>\n",
       "    <tr>\n",
       "      <th>95</th>\n",
       "      <td>0.78</td>\n",
       "      <td>970</td>\n",
       "    </tr>\n",
       "    <tr>\n",
       "      <th>96</th>\n",
       "      <td>1.04</td>\n",
       "      <td>387</td>\n",
       "    </tr>\n",
       "    <tr>\n",
       "      <th>97</th>\n",
       "      <td>1.02</td>\n",
       "      <td>831</td>\n",
       "    </tr>\n",
       "    <tr>\n",
       "      <th>98</th>\n",
       "      <td>1.11</td>\n",
       "      <td>451</td>\n",
       "    </tr>\n",
       "  </tbody>\n",
       "</table>\n",
       "<p>99 rows × 2 columns</p>\n",
       "</div>"
      ],
      "text/plain": [
       "    price  demand\n",
       "0    1.05     283\n",
       "1    0.86     771\n",
       "2    1.21     185\n",
       "3    0.94     531\n",
       "4    0.76    1002\n",
       "..    ...     ...\n",
       "94   1.13     321\n",
       "95   0.78     970\n",
       "96   1.04     387\n",
       "97   1.02     831\n",
       "98   1.11     451\n",
       "\n",
       "[99 rows x 2 columns]"
      ]
     },
     "execution_count": 2,
     "metadata": {},
     "output_type": "execute_result"
    }
   ],
   "source": [
    "import pandas as pd\n",
    "from sklearn.linear_model import LinearRegression\n",
    "import numpy as np\n",
    "\n",
    "#ignore warnings\n",
    "import warnings\n",
    "warnings.filterwarnings('ignore')\n",
    "\n",
    "# Load the CSV file into a Pandas dataframe\n",
    "df = pd.read_csv(\"price_demand_data.csv\")\n",
    "\n",
    "days=df.shape[0] # number of days of demand data\n",
    "print(\"Number of days of demand data: \", days)\n",
    "\n",
    "\n",
    "# Print the first few rows of the dataframe to check that it loaded correctly\n",
    "df"
   ]
  },
  {
   "cell_type": "code",
   "execution_count": 3,
   "metadata": {},
   "outputs": [
    {
     "name": "stdout",
     "output_type": "stream",
     "text": [
      "Intercept: 1924.7175435291088\n",
      "Slope: -1367.7125241625981\n"
     ]
    }
   ],
   "source": [
    "\n",
    "# Extract the price and demand columns as numpy arrays\n",
    "X = df[\"price\"].values.reshape(-1, 1)\n",
    "y = df[\"demand\"].values\n",
    "\n",
    "# Create a LinearRegression model and fit it to the data\n",
    "model = LinearRegression()\n",
    "model.fit(X, y)\n",
    "\n",
    "# Print the coefficients of the model (intercept and slope)\n",
    "print(\"Intercept:\", model.intercept_)\n",
    "print(\"Slope:\", model.coef_[0])\n"
   ]
  },
  {
   "attachments": {},
   "cell_type": "markdown",
   "metadata": {},
   "source": [
    "______________________________"
   ]
  },
  {
   "attachments": {},
   "cell_type": "markdown",
   "metadata": {},
   "source": [
    "## Part 1 - LP"
   ]
  },
  {
   "cell_type": "code",
   "execution_count": 4,
   "metadata": {},
   "outputs": [
    {
     "data": {
      "text/plain": [
       "0     351.385626\n",
       "1     579.520247\n",
       "2     472.219630\n",
       "3     448.937249\n",
       "4     673.748994\n",
       "         ...    \n",
       "94    498.802628\n",
       "95    669.103245\n",
       "96    441.708501\n",
       "97    858.354250\n",
       "98    601.448378\n",
       "Name: demand, Length: 99, dtype: float64"
      ]
     },
     "execution_count": 4,
     "metadata": {},
     "output_type": "execute_result"
    }
   ],
   "source": [
    "# Set the values of c, g, and t\n",
    "c = 0.5\n",
    "g = 0.75\n",
    "t = 0.15\n",
    "\n",
    "# Get the residuals\n",
    "residuals = df['demand'] - model.predict(df[['price']])\n",
    "\n",
    "# Generate demand data for p=1\n",
    "price = 1\n",
    "demand_data = model.intercept_ + model.coef_[0] * price + residuals\n",
    "demand_data"
   ]
  },
  {
   "attachments": {},
   "cell_type": "markdown",
   "metadata": {},
   "source": [
    "The first constraint ensures that the production quantity (q) plus the inventory (h) is greater than or equal to the demand for that day. The demand is calculated as (p-g)*demand_data[r], where demand_data is a list of demand values for each day. This constraint is represented in the A matrix as A[2*r,[0,r+1]] = [(c-g),1] and in the b array as b[2*r] = (p-g)*demand_data[r].\n",
    "\n",
    "The second constraint ensures that the inventory for the next day (h+1) plus the backorders for the current day (b) is greater than or equal to the demand for the current day. The demand is calculated as (p+t)*demand_data[r], where demand_data is a list of demand values for each day. This constraint is represented in the A matrix as A[2*r+1,[0,r+1]] = [(c+t),1] and in the b array as b[2*r+1] = (p+t)*demand_data[r]."
   ]
  },
  {
   "cell_type": "code",
   "execution_count": 5,
   "metadata": {},
   "outputs": [
    {
     "name": "stdout",
     "output_type": "stream",
     "text": [
      "Using license file /Users/amritangshumukherjee/gurobi.lic\n",
      "Academic license - for non-commercial use only - expires 2023-08-17\n",
      "Optimal Quantity is: 472.0\n"
     ]
    }
   ],
   "source": [
    "import gurobipy as gp\n",
    "import numpy as np\n",
    "c=0.5\n",
    "g=0.75\n",
    "t=0.15\n",
    "p=1\n",
    "\n",
    "# Decision variables___________\n",
    "obj = np.zeros(1+days)\n",
    "obj[1:] = 1.0/days\n",
    "\n",
    "# constraints_________________\n",
    "b = np.zeros(2*days)\n",
    "A = np.zeros((2*days,1+days))\n",
    "for r in range(days):\n",
    "    A[2*r,[0,r+1]] = [(c-g),1]\n",
    "    A[2*r+1,[0,r+1]] = [(c+t),1]\n",
    "    b[2*r] = (p-g)*demand_data[r]\n",
    "    b[2*r+1] = (p+t)*demand_data[r]\n",
    "\n",
    "# limits___________\n",
    "vtype = np.array(['I'] + ['C']*days)\n",
    "lb = np.hstack([0, -gp.GRB.INFINITY * np.ones(days)])\n",
    "\n",
    "# Model___________\n",
    "gpmod = gp.Model()\n",
    "gpmod_x = gpmod.addMVar(len(obj),lb=lb, vtype=vtype)\n",
    "gpmod_con = gpmod.addConstr(A @ gpmod_x <= b)\n",
    "gpmod.setObjective(obj @ gpmod_x,sense=gp.GRB.MAXIMIZE)\n",
    "gpmod.Params.OutputFlag = 0\n",
    "gpmod.optimize()\n",
    "\n",
    "#print(spMod.objVal)\n",
    "print('Optimal Quantity is:',gpmod.x[0])"
   ]
  },
  {
   "attachments": {},
   "cell_type": "markdown",
   "metadata": {},
   "source": [
    "__________________"
   ]
  },
  {
   "attachments": {},
   "cell_type": "markdown",
   "metadata": {},
   "source": [
    "## Part 2 - QP\n",
    "\n",
    "Objective: The objective of the optimization problem is to maximize the expected profit of a company, which is modeled as a linear function of the residuals of a linear regression model. The decision variables are the optimal production levels for each of the days in the planning horizon.\n",
    "\n",
    "Constraints: There are 2n constraints, where n is the number of days in the planning horizon. For each day, there are two constraints. The first constraint ensures that the production level is greater than or equal to the demand for the day. The second constraint ensures that the production level is less than or equal to the total capacity of the company. The two constraints for each day are represented using two linear inequalities. The coefficients of the inequalities depend on the demand, capacity, and the coefficients of the linear regression model.\n",
    "\n",
    "Limits: The decision variables have lower bounds of negative infinity for production levels, as costs will be negative. The intercept and the residual mean of the regression model have infinite upper bounds, as their value can be arbitrarily large."
   ]
  },
  {
   "cell_type": "code",
   "execution_count": 6,
   "metadata": {},
   "outputs": [
    {
     "name": "stdout",
     "output_type": "stream",
     "text": [
      "Optimal Profit: 234.42493491247933\n",
      "Optimal Price: 0.9536264966228528\n",
      "Demand: 535.2910009500024\n"
     ]
    }
   ],
   "source": [
    "c=0.5\n",
    "g=0.75\n",
    "t=0.15\n",
    "p=1\n",
    "\n",
    "# Decision variables___________\n",
    "obj = np.zeros(days+2)\n",
    "obj[2:] = 1.0/days\n",
    "obj[0] = model.intercept_+residuals.mean()\n",
    "\n",
    "# constraints_________________\n",
    "Q = np.zeros((days+2,days+2))\n",
    "Q[0,0] = model.coef_[0]\n",
    "A = np.zeros((2*days,days+2))\n",
    "b = np.zeros(2*days)\n",
    "for r in range(days):\n",
    "    A[2*r,[0,1,r+2]] = [-g*model.coef_[0],g-c,-1] \n",
    "    A[2*r+1,[0,1,r+2]] = [-t*model.coef_[0],c+t,1]\n",
    "    b[2*r+1] = t*(model.intercept_ +residuals[r])\n",
    "    b[2*r] = g*(model.intercept_ + residuals[r])\n",
    "    \n",
    "# limits___________\n",
    "lb = np.zeros(days+2)\n",
    "lb[2:] = -np.inf\n",
    "ub = np.zeros(days+2)\n",
    "ub[:2] = np.inf \n",
    "\n",
    "# Model___________\n",
    "qpMod = gp.Model()\n",
    "qpMod_x = qpMod.addMVar(len(obj),lb=lb,ub=ub)\n",
    "qpMod_con = qpMod.addMConstrs(A, qpMod_x, np.array(['>','<']*(days)), b)\n",
    "qpMod.setMObjective(Q,obj,0,sense=gp.GRB.MAXIMIZE)\n",
    "qpMod.Params.OutputFlag = 0\n",
    "qpMod.optimize()\n",
    "    \n",
    "print( 'Optimal Profit:',qpMod.objval)\n",
    "print( 'Optimal Price:',qpMod_x.x[0])\n",
    "print( 'Demand:',qpMod_x.x[1])\n",
    "\n",
    "opti_profit = qpMod.objval\n",
    "opti_price = qpMod_x.x[0]\n",
    "opti_demand = qpMod_x.x[1]"
   ]
  },
  {
   "attachments": {},
   "cell_type": "markdown",
   "metadata": {},
   "source": [
    "_______________________"
   ]
  },
  {
   "attachments": {},
   "cell_type": "markdown",
   "metadata": {},
   "source": [
    "## Part 3 - Sensitivity testing \n",
    "We are now interested to know how sensitive the optimal price and quantity are to our data set.\n",
    "Take a bootstrap sample of the original dataset. Go back and fit new beta’s to the new\n",
    "bootstrapped dataset and redo step 4. Find the optimal price and quantity."
   ]
  },
  {
   "cell_type": "code",
   "execution_count": 7,
   "metadata": {},
   "outputs": [],
   "source": [
    "import numpy as np\n",
    "import gurobipy as gp\n",
    "\n",
    "def calculate_optimal_profit(df, coef, intercept,num, residuals, c, g, t):\n",
    "    days = len(df)\n",
    "    # Decision variables\n",
    "    obj = np.zeros(days+2)\n",
    "    obj[2:] = 1.0/days\n",
    "    obj[0] = intercept + residuals.mean()\n",
    "\n",
    "    # Constraints\n",
    "    Q = np.zeros((days+2,days+2))\n",
    "    Q[0,0] = coef\n",
    "    A = np.zeros((2*days,days+2))\n",
    "    b = np.zeros(2*days)\n",
    "    for r in range(days):\n",
    "        A[2*r,[0,1,r+2]] = [-g*coef, g-c, -1] \n",
    "        A[2*r+1,[0,1,r+2]] = [-t*coef, c+t, 1]\n",
    "        b[2*r+1] = t * (intercept + residuals[r])\n",
    "        b[2*r] = g * (intercept + residuals[r])\n",
    "\n",
    "    # Limits\n",
    "    lb = np.zeros(days+2)\n",
    "    lb[2:] = -np.inf\n",
    "    ub = np.zeros(days+2)\n",
    "    ub[:2] = np.inf\n",
    "\n",
    "    # Model\n",
    "    qpMod = gp.Model()\n",
    "    qpMod_x = qpMod.addMVar(len(obj), lb=lb, ub=ub)\n",
    "    qpMod_con = qpMod.addMConstrs(A, qpMod_x, np.array(['>', '<']*(days)), b)\n",
    "    qpMod.setMObjective(Q, obj, 0, sense=gp.GRB.MAXIMIZE)\n",
    "    qpMod.Params.OutputFlag = 0\n",
    "    qpMod.optimize()\n",
    "\n",
    "    # Output\n",
    "    opti_profit = qpMod.objval\n",
    "    opti_price = qpMod_x.x[0]\n",
    "    opti_demand = qpMod_x.x[1]\n",
    "    #store inputs and outputs in a df\n",
    "    \n",
    "    return opti_price, opti_demand, opti_profit\n"
   ]
  },
  {
   "cell_type": "code",
   "execution_count": 8,
   "metadata": {},
   "outputs": [
    {
     "data": {
      "text/plain": [
       "(0.9536264966228528, 535.2910009500024, 234.42493491247933)"
      ]
     },
     "execution_count": 8,
     "metadata": {},
     "output_type": "execute_result"
    }
   ],
   "source": [
    "num=0\n",
    "calculate_optimal_profit(df,model.coef_[0],model.intercept_,num,residuals,c=0.5,g=0.75,t=0.15)"
   ]
  },
  {
   "cell_type": "code",
   "execution_count": 9,
   "metadata": {},
   "outputs": [],
   "source": [
    "# Simulation of bootstrap sample of the original dataset\n",
    "#create a df to store the inputs and outputs\n",
    "df_store = pd.DataFrame(columns=['num','coef','intercept','c','g','t','p','opti_profit','opti_price','opti_demand'])\n",
    "for num in range(1000):\n",
    "    x = np.random.choice(df.index, size=len(df), replace=True).tolist()\n",
    "    df_temp = df[['price','demand']].sample(frac=1, replace=True)\n",
    "    lm = LinearRegression().fit(df_temp[['price']], df_temp['demand'])\n",
    "    details=calculate_optimal_profit(df_temp, lm.coef_, lm.intercept_, num,y - lm.predict(X),c=0.5,g=0.75,t=0.15)\n",
    "    df_store.loc[len(df_store)] = [num, lm.coef_, lm.intercept_, c, g, t, p, details[2], details[0], details[1]]"
   ]
  },
  {
   "cell_type": "code",
   "execution_count": 10,
   "metadata": {},
   "outputs": [
    {
     "data": {
      "text/html": [
       "<div>\n",
       "<style scoped>\n",
       "    .dataframe tbody tr th:only-of-type {\n",
       "        vertical-align: middle;\n",
       "    }\n",
       "\n",
       "    .dataframe tbody tr th {\n",
       "        vertical-align: top;\n",
       "    }\n",
       "\n",
       "    .dataframe thead th {\n",
       "        text-align: right;\n",
       "    }\n",
       "</style>\n",
       "<table border=\"1\" class=\"dataframe\">\n",
       "  <thead>\n",
       "    <tr style=\"text-align: right;\">\n",
       "      <th></th>\n",
       "      <th>num</th>\n",
       "      <th>coef</th>\n",
       "      <th>intercept</th>\n",
       "      <th>c</th>\n",
       "      <th>g</th>\n",
       "      <th>t</th>\n",
       "      <th>p</th>\n",
       "      <th>opti_profit</th>\n",
       "      <th>opti_price</th>\n",
       "      <th>opti_demand</th>\n",
       "    </tr>\n",
       "  </thead>\n",
       "  <tbody>\n",
       "    <tr>\n",
       "      <th>0</th>\n",
       "      <td>0</td>\n",
       "      <td>[-1449.6523669934913]</td>\n",
       "      <td>2025.172282</td>\n",
       "      <td>0.5</td>\n",
       "      <td>0.75</td>\n",
       "      <td>0.15</td>\n",
       "      <td>1</td>\n",
       "      <td>236.103161</td>\n",
       "      <td>0.942616</td>\n",
       "      <td>557.158554</td>\n",
       "    </tr>\n",
       "    <tr>\n",
       "      <th>1</th>\n",
       "      <td>1</td>\n",
       "      <td>[-1463.1931002044253]</td>\n",
       "      <td>2029.385608</td>\n",
       "      <td>0.5</td>\n",
       "      <td>0.75</td>\n",
       "      <td>0.15</td>\n",
       "      <td>1</td>\n",
       "      <td>236.395246</td>\n",
       "      <td>0.940916</td>\n",
       "      <td>561.507320</td>\n",
       "    </tr>\n",
       "    <tr>\n",
       "      <th>2</th>\n",
       "      <td>2</td>\n",
       "      <td>[-1480.500615755185]</td>\n",
       "      <td>2017.881074</td>\n",
       "      <td>0.5</td>\n",
       "      <td>0.75</td>\n",
       "      <td>0.15</td>\n",
       "      <td>1</td>\n",
       "      <td>236.780652</td>\n",
       "      <td>0.938787</td>\n",
       "      <td>567.065831</td>\n",
       "    </tr>\n",
       "    <tr>\n",
       "      <th>3</th>\n",
       "      <td>3</td>\n",
       "      <td>[-1169.3570052584998]</td>\n",
       "      <td>1712.832568</td>\n",
       "      <td>0.5</td>\n",
       "      <td>0.75</td>\n",
       "      <td>0.15</td>\n",
       "      <td>1</td>\n",
       "      <td>230.466268</td>\n",
       "      <td>0.986668</td>\n",
       "      <td>481.041323</td>\n",
       "    </tr>\n",
       "    <tr>\n",
       "      <th>4</th>\n",
       "      <td>4</td>\n",
       "      <td>[-1238.1399485093248]</td>\n",
       "      <td>1793.320656</td>\n",
       "      <td>0.5</td>\n",
       "      <td>0.75</td>\n",
       "      <td>0.15</td>\n",
       "      <td>1</td>\n",
       "      <td>231.794506</td>\n",
       "      <td>0.974011</td>\n",
       "      <td>492.126494</td>\n",
       "    </tr>\n",
       "    <tr>\n",
       "      <th>...</th>\n",
       "      <td>...</td>\n",
       "      <td>...</td>\n",
       "      <td>...</td>\n",
       "      <td>...</td>\n",
       "      <td>...</td>\n",
       "      <td>...</td>\n",
       "      <td>...</td>\n",
       "      <td>...</td>\n",
       "      <td>...</td>\n",
       "      <td>...</td>\n",
       "    </tr>\n",
       "    <tr>\n",
       "      <th>995</th>\n",
       "      <td>995</td>\n",
       "      <td>[-1400.386732960009]</td>\n",
       "      <td>1973.124514</td>\n",
       "      <td>0.5</td>\n",
       "      <td>0.75</td>\n",
       "      <td>0.15</td>\n",
       "      <td>1</td>\n",
       "      <td>235.082926</td>\n",
       "      <td>0.949082</td>\n",
       "      <td>548.258979</td>\n",
       "    </tr>\n",
       "    <tr>\n",
       "      <th>996</th>\n",
       "      <td>996</td>\n",
       "      <td>[-1390.2472009742942]</td>\n",
       "      <td>1928.625378</td>\n",
       "      <td>0.5</td>\n",
       "      <td>0.75</td>\n",
       "      <td>0.15</td>\n",
       "      <td>1</td>\n",
       "      <td>234.876157</td>\n",
       "      <td>0.950469</td>\n",
       "      <td>545.007089</td>\n",
       "    </tr>\n",
       "    <tr>\n",
       "      <th>997</th>\n",
       "      <td>997</td>\n",
       "      <td>[-1411.5428259244668]</td>\n",
       "      <td>1994.920153</td>\n",
       "      <td>0.5</td>\n",
       "      <td>0.75</td>\n",
       "      <td>0.15</td>\n",
       "      <td>1</td>\n",
       "      <td>235.306441</td>\n",
       "      <td>0.947578</td>\n",
       "      <td>549.610669</td>\n",
       "    </tr>\n",
       "    <tr>\n",
       "      <th>998</th>\n",
       "      <td>998</td>\n",
       "      <td>[-1383.5576181701758]</td>\n",
       "      <td>1916.387668</td>\n",
       "      <td>0.5</td>\n",
       "      <td>0.75</td>\n",
       "      <td>0.15</td>\n",
       "      <td>1</td>\n",
       "      <td>234.739349</td>\n",
       "      <td>0.951396</td>\n",
       "      <td>542.122797</td>\n",
       "    </tr>\n",
       "    <tr>\n",
       "      <th>999</th>\n",
       "      <td>999</td>\n",
       "      <td>[-1309.7595641359708]</td>\n",
       "      <td>1862.248870</td>\n",
       "      <td>0.5</td>\n",
       "      <td>0.75</td>\n",
       "      <td>0.15</td>\n",
       "      <td>1</td>\n",
       "      <td>233.346141</td>\n",
       "      <td>0.962245</td>\n",
       "      <td>513.400084</td>\n",
       "    </tr>\n",
       "  </tbody>\n",
       "</table>\n",
       "<p>1000 rows × 10 columns</p>\n",
       "</div>"
      ],
      "text/plain": [
       "     num                   coef    intercept    c     g     t  p  opti_profit  \\\n",
       "0      0  [-1449.6523669934913]  2025.172282  0.5  0.75  0.15  1   236.103161   \n",
       "1      1  [-1463.1931002044253]  2029.385608  0.5  0.75  0.15  1   236.395246   \n",
       "2      2   [-1480.500615755185]  2017.881074  0.5  0.75  0.15  1   236.780652   \n",
       "3      3  [-1169.3570052584998]  1712.832568  0.5  0.75  0.15  1   230.466268   \n",
       "4      4  [-1238.1399485093248]  1793.320656  0.5  0.75  0.15  1   231.794506   \n",
       "..   ...                    ...          ...  ...   ...   ... ..          ...   \n",
       "995  995   [-1400.386732960009]  1973.124514  0.5  0.75  0.15  1   235.082926   \n",
       "996  996  [-1390.2472009742942]  1928.625378  0.5  0.75  0.15  1   234.876157   \n",
       "997  997  [-1411.5428259244668]  1994.920153  0.5  0.75  0.15  1   235.306441   \n",
       "998  998  [-1383.5576181701758]  1916.387668  0.5  0.75  0.15  1   234.739349   \n",
       "999  999  [-1309.7595641359708]  1862.248870  0.5  0.75  0.15  1   233.346141   \n",
       "\n",
       "     opti_price  opti_demand  \n",
       "0      0.942616   557.158554  \n",
       "1      0.940916   561.507320  \n",
       "2      0.938787   567.065831  \n",
       "3      0.986668   481.041323  \n",
       "4      0.974011   492.126494  \n",
       "..          ...          ...  \n",
       "995    0.949082   548.258979  \n",
       "996    0.950469   545.007089  \n",
       "997    0.947578   549.610669  \n",
       "998    0.951396   542.122797  \n",
       "999    0.962245   513.400084  \n",
       "\n",
       "[1000 rows x 10 columns]"
      ]
     },
     "execution_count": 10,
     "metadata": {},
     "output_type": "execute_result"
    }
   ],
   "source": [
    "df_store"
   ]
  },
  {
   "cell_type": "code",
   "execution_count": 50,
   "metadata": {},
   "outputs": [
    {
     "data": {
      "text/html": [
       "<div>\n",
       "<style scoped>\n",
       "    .dataframe tbody tr th:only-of-type {\n",
       "        vertical-align: middle;\n",
       "    }\n",
       "\n",
       "    .dataframe tbody tr th {\n",
       "        vertical-align: top;\n",
       "    }\n",
       "\n",
       "    .dataframe thead th {\n",
       "        text-align: right;\n",
       "    }\n",
       "</style>\n",
       "<table border=\"1\" class=\"dataframe\">\n",
       "  <thead>\n",
       "    <tr style=\"text-align: right;\">\n",
       "      <th></th>\n",
       "      <th>num</th>\n",
       "      <th>intercept</th>\n",
       "      <th>c</th>\n",
       "      <th>g</th>\n",
       "      <th>t</th>\n",
       "      <th>p</th>\n",
       "      <th>opti_profit</th>\n",
       "      <th>opti_price</th>\n",
       "      <th>opti_demand</th>\n",
       "    </tr>\n",
       "  </thead>\n",
       "  <tbody>\n",
       "    <tr>\n",
       "      <th>count</th>\n",
       "      <td>1000.000000</td>\n",
       "      <td>1000.000000</td>\n",
       "      <td>1000.0</td>\n",
       "      <td>1000.00</td>\n",
       "      <td>1.000000e+03</td>\n",
       "      <td>1000.0</td>\n",
       "      <td>1000.000000</td>\n",
       "      <td>1000.000000</td>\n",
       "      <td>1000.000000</td>\n",
       "    </tr>\n",
       "    <tr>\n",
       "      <th>mean</th>\n",
       "      <td>499.500000</td>\n",
       "      <td>1919.545598</td>\n",
       "      <td>0.5</td>\n",
       "      <td>0.75</td>\n",
       "      <td>1.500000e-01</td>\n",
       "      <td>1.0</td>\n",
       "      <td>234.394197</td>\n",
       "      <td>0.955275</td>\n",
       "      <td>532.002847</td>\n",
       "    </tr>\n",
       "    <tr>\n",
       "      <th>std</th>\n",
       "      <td>288.819436</td>\n",
       "      <td>104.938754</td>\n",
       "      <td>0.0</td>\n",
       "      <td>0.00</td>\n",
       "      <td>2.832485e-15</td>\n",
       "      <td>0.0</td>\n",
       "      <td>2.015082</td>\n",
       "      <td>0.014404</td>\n",
       "      <td>29.336970</td>\n",
       "    </tr>\n",
       "    <tr>\n",
       "      <th>min</th>\n",
       "      <td>0.000000</td>\n",
       "      <td>1558.863790</td>\n",
       "      <td>0.5</td>\n",
       "      <td>0.75</td>\n",
       "      <td>1.500000e-01</td>\n",
       "      <td>1.0</td>\n",
       "      <td>228.765674</td>\n",
       "      <td>0.911517</td>\n",
       "      <td>446.387573</td>\n",
       "    </tr>\n",
       "    <tr>\n",
       "      <th>25%</th>\n",
       "      <td>249.750000</td>\n",
       "      <td>1853.281104</td>\n",
       "      <td>0.5</td>\n",
       "      <td>0.75</td>\n",
       "      <td>1.500000e-01</td>\n",
       "      <td>1.0</td>\n",
       "      <td>233.146478</td>\n",
       "      <td>0.945247</td>\n",
       "      <td>510.510601</td>\n",
       "    </tr>\n",
       "    <tr>\n",
       "      <th>50%</th>\n",
       "      <td>499.500000</td>\n",
       "      <td>1919.456642</td>\n",
       "      <td>0.5</td>\n",
       "      <td>0.75</td>\n",
       "      <td>1.500000e-01</td>\n",
       "      <td>1.0</td>\n",
       "      <td>234.310408</td>\n",
       "      <td>0.954478</td>\n",
       "      <td>532.724839</td>\n",
       "    </tr>\n",
       "    <tr>\n",
       "      <th>75%</th>\n",
       "      <td>749.250000</td>\n",
       "      <td>1989.387980</td>\n",
       "      <td>0.5</td>\n",
       "      <td>0.75</td>\n",
       "      <td>1.500000e-01</td>\n",
       "      <td>1.0</td>\n",
       "      <td>235.672880</td>\n",
       "      <td>0.963634</td>\n",
       "      <td>551.749408</td>\n",
       "    </tr>\n",
       "    <tr>\n",
       "      <th>max</th>\n",
       "      <td>999.000000</td>\n",
       "      <td>2286.848529</td>\n",
       "      <td>0.5</td>\n",
       "      <td>0.75</td>\n",
       "      <td>1.500000e-01</td>\n",
       "      <td>1.0</td>\n",
       "      <td>243.479269</td>\n",
       "      <td>1.022280</td>\n",
       "      <td>629.991413</td>\n",
       "    </tr>\n",
       "  </tbody>\n",
       "</table>\n",
       "</div>"
      ],
      "text/plain": [
       "               num    intercept       c        g             t       p  \\\n",
       "count  1000.000000  1000.000000  1000.0  1000.00  1.000000e+03  1000.0   \n",
       "mean    499.500000  1919.545598     0.5     0.75  1.500000e-01     1.0   \n",
       "std     288.819436   104.938754     0.0     0.00  2.832485e-15     0.0   \n",
       "min       0.000000  1558.863790     0.5     0.75  1.500000e-01     1.0   \n",
       "25%     249.750000  1853.281104     0.5     0.75  1.500000e-01     1.0   \n",
       "50%     499.500000  1919.456642     0.5     0.75  1.500000e-01     1.0   \n",
       "75%     749.250000  1989.387980     0.5     0.75  1.500000e-01     1.0   \n",
       "max     999.000000  2286.848529     0.5     0.75  1.500000e-01     1.0   \n",
       "\n",
       "       opti_profit   opti_price  opti_demand  \n",
       "count  1000.000000  1000.000000  1000.000000  \n",
       "mean    234.394197     0.955275   532.002847  \n",
       "std       2.015082     0.014404    29.336970  \n",
       "min     228.765674     0.911517   446.387573  \n",
       "25%     233.146478     0.945247   510.510601  \n",
       "50%     234.310408     0.954478   532.724839  \n",
       "75%     235.672880     0.963634   551.749408  \n",
       "max     243.479269     1.022280   629.991413  "
      ]
     },
     "execution_count": 50,
     "metadata": {},
     "output_type": "execute_result"
    }
   ],
   "source": [
    "#calculate central tendencies of columns in df_store\n",
    "metrics=df_store.describe()\n",
    "\n",
    "#get mean from metrics\n",
    "mean=metrics.loc['mean','opti_profit']\n",
    "\n",
    "metrics"
   ]
  },
  {
   "cell_type": "code",
   "execution_count": 64,
   "metadata": {},
   "outputs": [
    {
     "data": {
      "text/plain": [
       "<matplotlib.legend.Legend at 0x7fba9b5fe7c0>"
      ]
     },
     "execution_count": 64,
     "metadata": {},
     "output_type": "execute_result"
    },
    {
     "data": {
      "image/png": "[encoded data removed]",
      "text/plain": [
       "<Figure size 1440x288 with 3 Axes>"
      ]
     },
     "metadata": {
      "needs_background": "light"
     },
     "output_type": "display_data"
    }
   ],
   "source": [
    "#plot Pricefinal as a histogram with a line on the optimal price\n",
    "import matplotlib.pyplot as plt\n",
    "%matplotlib inline\n",
    "import seaborn as sns\n",
    "#fig = plt.figure(figsize=(10,4))\n",
    "#plt.hist(Pricefinal, bins=15, density=True, edgecolor='gray',alpha=0.6, color='r')\n",
    "#plt.axvline(x=opti_price, color='r', linestyle='dashed', linewidth=2)\n",
    "#plot Pricefinal,Quantityfinal,Profitfinal as vertical suplots with horizontal lines\n",
    "fig = plt.figure(figsize=(20,4))\n",
    "plt.subplot(1,3,1)\n",
    "plt.title('Price')\n",
    "plt.hist(df_store['opti_price'], bins=15, density=True, edgecolor='gray',alpha=0.6, color='r')\n",
    "plt.axvline(x=metrics.loc['mean','opti_price'], color='r', linestyle='dashed', linewidth=2, label='Mean price')\n",
    "plt.axvline(x=metrics.loc['25%','opti_price'], color='b', linestyle='dashed', linewidth=2, label='Mean price')\n",
    "plt.axvline(x=metrics.loc['75%','opti_price'], color='b', linestyle='dashed', linewidth=2, label='Mean price')\n",
    "plt.subplot(1,3,2)\n",
    "plt.title('Quantity')\n",
    "plt.hist(df_store['opti_demand'], bins=15, density=True, edgecolor='gray',alpha=0.6, color='r')\n",
    "plt.axvline(x=metrics.loc['mean','opti_demand'], color='r', linestyle='dashed', linewidth=2, label='Mean quantity')\n",
    "plt.axvline(x=metrics.loc['25%','opti_demand'], color='b', linestyle='dashed', linewidth=2, label='Mean price')\n",
    "plt.axvline(x=metrics.loc['75%','opti_demand'], color='b', linestyle='dashed', linewidth=2, label='Mean price')\n",
    "\n",
    "plt.subplot(1,3,3)\n",
    "plt.title('Profit')\n",
    "plt.hist(df_store['opti_profit'], bins=15, density=True, edgecolor='gray',alpha=0.6, color='r')\n",
    "plt.axvline(x=metrics.loc['mean','opti_profit'], color='r', linestyle='dashed', linewidth=2, label='Mean')\n",
    "plt.axvline(x=metrics.loc['25%','opti_profit'], color='b', linestyle='dashed', linewidth=2, label='25 pct interval')\n",
    "plt.axvline(x=metrics.loc['75%','opti_profit'], color='b', linestyle='dashed', linewidth=2, label='75 pct interval')\n",
    "#plt.legend(fontsize=14)\n",
    "\n",
    "#position legend \n",
    "plt.legend(bbox_to_anchor=(1.05, 1), loc='upper left', borderaxespad=0.)\n",
    "\n"
   ]
  },
  {
   "cell_type": "code",
   "execution_count": 67,
   "metadata": {},
   "outputs": [
    {
     "data": {
      "text/plain": [
       "<seaborn.axisgrid.JointGrid at 0x7fba89a31250>"
      ]
     },
     "execution_count": 67,
     "metadata": {},
     "output_type": "execute_result"
    },
    {
     "data": {
      "image/png": "[encoded data removed]",
      "text/plain": [
       "<Figure size 360x360 with 3 Axes>"
      ]
     },
     "metadata": {
      "needs_background": "light"
     },
     "output_type": "display_data"
    }
   ],
   "source": [
    "#price vs. quantity with a histogram on each axis\n",
    "\n",
    "sns.jointplot(x='opti_price', y='opti_demand',kind='reg',data=df_store,height=5, ratio=5,marginal_kws=dict(bins=20))"
   ]
  },
  {
   "cell_type": "code",
   "execution_count": 49,
   "metadata": {},
   "outputs": [
    {
     "data": {
      "text/html": [
       "<div>\n",
       "<style scoped>\n",
       "    .dataframe tbody tr th:only-of-type {\n",
       "        vertical-align: middle;\n",
       "    }\n",
       "\n",
       "    .dataframe tbody tr th {\n",
       "        vertical-align: top;\n",
       "    }\n",
       "\n",
       "    .dataframe thead th {\n",
       "        text-align: right;\n",
       "    }\n",
       "</style>\n",
       "<table border=\"1\" class=\"dataframe\">\n",
       "  <thead>\n",
       "    <tr style=\"text-align: right;\">\n",
       "      <th></th>\n",
       "      <th>num</th>\n",
       "      <th>intercept</th>\n",
       "      <th>c</th>\n",
       "      <th>g</th>\n",
       "      <th>t</th>\n",
       "      <th>p</th>\n",
       "      <th>opti_profit</th>\n",
       "      <th>opti_price</th>\n",
       "      <th>opti_demand</th>\n",
       "    </tr>\n",
       "  </thead>\n",
       "  <tbody>\n",
       "    <tr>\n",
       "      <th>count</th>\n",
       "      <td>1000.000000</td>\n",
       "      <td>1000.000000</td>\n",
       "      <td>1000.0</td>\n",
       "      <td>1000.00</td>\n",
       "      <td>1.000000e+03</td>\n",
       "      <td>1000.0</td>\n",
       "      <td>1000.000000</td>\n",
       "      <td>1000.000000</td>\n",
       "      <td>1000.000000</td>\n",
       "    </tr>\n",
       "    <tr>\n",
       "      <th>mean</th>\n",
       "      <td>499.500000</td>\n",
       "      <td>1919.545598</td>\n",
       "      <td>0.5</td>\n",
       "      <td>0.75</td>\n",
       "      <td>1.500000e-01</td>\n",
       "      <td>1.0</td>\n",
       "      <td>234.394197</td>\n",
       "      <td>0.955275</td>\n",
       "      <td>532.002847</td>\n",
       "    </tr>\n",
       "    <tr>\n",
       "      <th>std</th>\n",
       "      <td>288.819436</td>\n",
       "      <td>104.938754</td>\n",
       "      <td>0.0</td>\n",
       "      <td>0.00</td>\n",
       "      <td>2.832485e-15</td>\n",
       "      <td>0.0</td>\n",
       "      <td>2.015082</td>\n",
       "      <td>0.014404</td>\n",
       "      <td>29.336970</td>\n",
       "    </tr>\n",
       "    <tr>\n",
       "      <th>min</th>\n",
       "      <td>0.000000</td>\n",
       "      <td>1558.863790</td>\n",
       "      <td>0.5</td>\n",
       "      <td>0.75</td>\n",
       "      <td>1.500000e-01</td>\n",
       "      <td>1.0</td>\n",
       "      <td>228.765674</td>\n",
       "      <td>0.911517</td>\n",
       "      <td>446.387573</td>\n",
       "    </tr>\n",
       "    <tr>\n",
       "      <th>25%</th>\n",
       "      <td>249.750000</td>\n",
       "      <td>1853.281104</td>\n",
       "      <td>0.5</td>\n",
       "      <td>0.75</td>\n",
       "      <td>1.500000e-01</td>\n",
       "      <td>1.0</td>\n",
       "      <td>233.146478</td>\n",
       "      <td>0.945247</td>\n",
       "      <td>510.510601</td>\n",
       "    </tr>\n",
       "    <tr>\n",
       "      <th>50%</th>\n",
       "      <td>499.500000</td>\n",
       "      <td>1919.456642</td>\n",
       "      <td>0.5</td>\n",
       "      <td>0.75</td>\n",
       "      <td>1.500000e-01</td>\n",
       "      <td>1.0</td>\n",
       "      <td>234.310408</td>\n",
       "      <td>0.954478</td>\n",
       "      <td>532.724839</td>\n",
       "    </tr>\n",
       "    <tr>\n",
       "      <th>75%</th>\n",
       "      <td>749.250000</td>\n",
       "      <td>1989.387980</td>\n",
       "      <td>0.5</td>\n",
       "      <td>0.75</td>\n",
       "      <td>1.500000e-01</td>\n",
       "      <td>1.0</td>\n",
       "      <td>235.672880</td>\n",
       "      <td>0.963634</td>\n",
       "      <td>551.749408</td>\n",
       "    </tr>\n",
       "    <tr>\n",
       "      <th>max</th>\n",
       "      <td>999.000000</td>\n",
       "      <td>2286.848529</td>\n",
       "      <td>0.5</td>\n",
       "      <td>0.75</td>\n",
       "      <td>1.500000e-01</td>\n",
       "      <td>1.0</td>\n",
       "      <td>243.479269</td>\n",
       "      <td>1.022280</td>\n",
       "      <td>629.991413</td>\n",
       "    </tr>\n",
       "  </tbody>\n",
       "</table>\n",
       "</div>"
      ],
      "text/plain": [
       "               num    intercept       c        g             t       p  \\\n",
       "count  1000.000000  1000.000000  1000.0  1000.00  1.000000e+03  1000.0   \n",
       "mean    499.500000  1919.545598     0.5     0.75  1.500000e-01     1.0   \n",
       "std     288.819436   104.938754     0.0     0.00  2.832485e-15     0.0   \n",
       "min       0.000000  1558.863790     0.5     0.75  1.500000e-01     1.0   \n",
       "25%     249.750000  1853.281104     0.5     0.75  1.500000e-01     1.0   \n",
       "50%     499.500000  1919.456642     0.5     0.75  1.500000e-01     1.0   \n",
       "75%     749.250000  1989.387980     0.5     0.75  1.500000e-01     1.0   \n",
       "max     999.000000  2286.848529     0.5     0.75  1.500000e-01     1.0   \n",
       "\n",
       "       opti_profit   opti_price  opti_demand  \n",
       "count  1000.000000  1000.000000  1000.000000  \n",
       "mean    234.394197     0.955275   532.002847  \n",
       "std       2.015082     0.014404    29.336970  \n",
       "min     228.765674     0.911517   446.387573  \n",
       "25%     233.146478     0.945247   510.510601  \n",
       "50%     234.310408     0.954478   532.724839  \n",
       "75%     235.672880     0.963634   551.749408  \n",
       "max     243.479269     1.022280   629.991413  "
      ]
     },
     "execution_count": 49,
     "metadata": {},
     "output_type": "execute_result"
    }
   ],
   "source": [
    "#calculate central tendencies of columns in df_store\n",
    "metrics=df_store.describe()\n",
    "\n",
    "#get mean from metrics\n",
    "mean=metrics.loc['mean','opti_profit']\n",
    "\n",
    "metrics"
   ]
  },
  {
   "cell_type": "code",
   "execution_count": 13,
   "metadata": {},
   "outputs": [
    {
     "data": {
      "image/png": "[encoded data removed]",
      "text/plain": [
       "<Figure size 1440x504 with 1 Axes>"
      ]
     },
     "metadata": {
      "needs_background": "light"
     },
     "output_type": "display_data"
    }
   ],
   "source": [
    "from mpl_toolkits.mplot3d import Axes3D\n",
    "import matplotlib.pyplot as plt\n",
    "\n",
    "fig = plt.figure(figsize=(20,7))\n",
    "ax = fig.add_subplot(111, projection='3d')\n",
    "ax.scatter(df_store['opti_price'], df_store['opti_demand'], df_store['opti_profit'])\n",
    "ax.set_xlabel('Price')\n",
    "ax.set_ylabel('Demand')\n",
    "ax.set_zlabel('Profit')\n",
    "plt.show()\n"
   ]
  },
  {
   "attachments": {},
   "cell_type": "markdown",
   "metadata": {},
   "source": [
    "After analyzing the data, it appears that the alternative model can increase revenue by switching production and pricing decisions. The alternative model is based on optimization techniques that account for the interdependence between pricing, production, and revenue. The optimization model maximizes the profit by choosing the optimal price and quantity to produce.\n",
    "\n",
    "In contrast, the standard NV model assumes that production decisions are independent of pricing decisions, which can result in suboptimal profits. The alternative model overcomes this limitation by taking into account the interdependence of the three variables, thereby allowing for more accurate decision-making."
   ]
  },
  {
   "cell_type": "code",
   "execution_count": 14,
   "metadata": {},
   "outputs": [
    {
     "data": {
      "text/plain": [
       "Text(0.5, 1.0, 'Profit as a Function of Price')"
      ]
     },
     "execution_count": 14,
     "metadata": {},
     "output_type": "execute_result"
    },
    {
     "data": {
      "image/png": "[encoded data removed]",
      "text/plain": [
       "<Figure size 432x288 with 1 Axes>"
      ]
     },
     "metadata": {
      "needs_background": "light"
     },
     "output_type": "display_data"
    },
    {
     "data": {
      "image/png": "[encoded data removed]",
      "text/plain": [
       "<Figure size 432x288 with 1 Axes>"
      ]
     },
     "metadata": {
      "needs_background": "light"
     },
     "output_type": "display_data"
    }
   ],
   "source": [
    "import matplotlib.pyplot as plt\n",
    "\n",
    "# Plot demand as a function of price\n",
    "fig, ax = plt.subplots()\n",
    "ax.scatter(df_store['opti_price'], df_store['opti_demand'])\n",
    "ax.set_xlabel('Price')\n",
    "ax.set_ylabel('Demand')\n",
    "ax.set_title('Demand as a Function of Price')\n",
    "\n",
    "# Plot profit as a function of price\n",
    "fig, ax = plt.subplots()\n",
    "ax.scatter(df_store['opti_price'], df_store['opti_profit'])\n",
    "ax.set_xlabel('Price')\n",
    "ax.set_ylabel('Profit')\n",
    "ax.set_title('Profit as a Function of Price')"
   ]
  },
  {
   "attachments": {},
   "cell_type": "markdown",
   "metadata": {},
   "source": [
    "____________________"
   ]
  },
  {
   "attachments": {},
   "cell_type": "markdown",
   "metadata": {},
   "source": [
    "## Part 4 - Comparison with Standard NV model"
   ]
  },
  {
   "cell_type": "code",
   "execution_count": 15,
   "metadata": {},
   "outputs": [],
   "source": [
    "import gurobipy as gp\n",
    "import numpy as np\n",
    "import pandas as pd\n",
    "\n",
    "def standard_nv_model(demand_df, cost=0.5):\n",
    "    nd = demand_df.shape[0] # number of days of demand datad\n",
    "    # decision variables are (q, h1, h2, ..., h25)\n",
    "    obj = np.zeros(nd+1)\n",
    "    obj[1:] = 1.0/nd\n",
    "    lb = np.zeros(nd+1)\n",
    "    lb[1:] = -np.inf # quantity printed needs to be non-negative, but profit on a given day could possibly be negative\n",
    "    rhs = np.zeros(2*nd)\n",
    "    direction = np.array(['<']*(2*nd))\n",
    "\n",
    "    A = np.zeros((2*nd,nd+1))\n",
    "    for r in range(nd):\n",
    "        A[2*r,[0,r+1]] = [cost,1] # location 1 is q, location r+1 is this h\n",
    "        rhs[2*r] = demand_df.price[r]*demand_df.demand[r]\n",
    "        A[2*r+1,[0,r+1]] = [cost-demand_df.price[r],1]\n",
    "        rhs[2*r+1] = 0\n",
    "\n",
    "    spMod = gp.Model()\n",
    "    spMod_x = spMod.addMVar(len(obj),lb=lb) # tell the model how many variables there are\n",
    "    # must define the variables before adding constraints because variables go into the constraints\n",
    "    spMod_con = spMod.addConstr(A @ spMod_x <= rhs) # NAME THE CONSTRAINTS!!! so we can get information about them later!\n",
    "    spMod.setObjective(obj @ spMod_x,sense=gp.GRB.MAXIMIZE) # add the objective to the model...we'll talk about the None and the 0\n",
    "    spMod.Params.OutputFlag = 0 # tell gurobi to shut up!!\n",
    "    spMod.optimize()\n",
    "\n",
    "    #print(spMod_x.x[0],spMod.objval)\n",
    "    numsold = np.minimum(spMod_x.x[0],demand_df.demand) # on each day, how many did we actually sell\n",
    "    sd_quantity=spMod_x.x[0]\n",
    "    sd_profit=np.mean(demand_df.price*numsold - cost*spMod_x.x[0]) # what was the average profit? exactly equal to the objective value!\n",
    "    \n",
    "    return sd_quantity, sd_profit\n"
   ]
  },
  {
   "cell_type": "code",
   "execution_count": 44,
   "metadata": {},
   "outputs": [],
   "source": [
    "sd_quantity, sd_profit=standard_nv_model(df)"
   ]
  },
  {
   "cell_type": "code",
   "execution_count": 45,
   "metadata": {},
   "outputs": [
    {
     "name": "stdout",
     "output_type": "stream",
     "text": [
      "Optimal profit:  234.42493491247933\n",
      "Optimal quantity:  535.2910009500024\n",
      "SD profit:  167.63919191919186\n",
      "SD quantity:  469.0\n",
      "Percentage difference in profit:  39.83897931545781\n",
      "Percentage difference in quantity:  14.134541780384307\n"
     ]
    }
   ],
   "source": [
    "#compare sd_profit and sd_quantity to optimim\n",
    "print('Optimal profit: ',opti_profit)\n",
    "print('Optimal quantity: ',opti_demand)\n",
    "print('SD profit: ',sd_profit)\n",
    "print('SD quantity: ',sd_quantity)\n",
    "\n",
    "#get percentage difference\n",
    "print('Percentage difference in profit: ',(opti_profit-sd_profit)/sd_profit*100)\n",
    "print('Percentage difference in quantity: ',(opti_demand-sd_quantity)/sd_quantity*100)"
   ]
  },
  {
   "cell_type": "code",
   "execution_count": null,
   "metadata": {},
   "outputs": [],
   "source": [
    "# Simulation of bootstrap sample of the original dataset\n",
    "#create a df to store the inputs and outputs\n",
    "df_store2 = pd.DataFrame(columns=['num','coef','intercept','c','g','t','p','opti_profit','opti_price','opti_quantity','sd_profit','sd_quantity'])\n",
    "for num in range(1000):\n",
    "    x = np.random.choice(df.index, size=len(df), replace=True).tolist()\n",
    "    df_temp = df[['price','demand']].sample(frac=1, replace=True)\n",
    "    #store df_temp as a dataframe\n",
    "    lm = LinearRegression().fit(df_temp[['price']], df_temp['demand'])\n",
    "    details=calculate_optimal_profit(df_temp, lm.coef_, lm.intercept_, num,y - lm.predict(X),c=0.5,g=0.75,t=0.15)\n",
    "    \n",
    "    #create a new dataframe with columns price and demand\n",
    "    test = pd.DataFrame(columns=['price','demand'])\n",
    "    test['price'] = df_temp['price']\n",
    "    test['demand'] = df_temp['demand']\n",
    "    test.reset_index(inplace=True)\n",
    "    details2=standard_nv_model(test)\n",
    "\n",
    "    df_store2.loc[len(df_store2)] = [num, lm.coef_, lm.intercept_, c, g, t, p, details[2], details[0], details[1],details2[1],details2[0]]"
   ]
  },
  {
   "cell_type": "code",
   "execution_count": null,
   "metadata": {},
   "outputs": [
    {
     "data": {
      "image/png": "[encoded data removed]",
      "text/plain": [
       "<Figure size 432x288 with 1 Axes>"
      ]
     },
     "metadata": {
      "needs_background": "light"
     },
     "output_type": "display_data"
    }
   ],
   "source": [
    "import matplotlib.pyplot as plt\n",
    "\n",
    "plt.scatter(df_store2['num'], df_store2['sd_profit'], label='Standard Profit')\n",
    "plt.scatter(df_store2['num'], df_store2['opti_profit'], label='Optimized Profit')\n",
    "plt.xlabel('num')\n",
    "plt.ylabel('Profit')\n",
    "plt.title('Comparison of Standard and Optimized Profit by num')\n",
    "plt.legend()\n",
    "plt.show()\n"
   ]
  },
  {
   "cell_type": "code",
   "execution_count": null,
   "metadata": {},
   "outputs": [
    {
     "name": "stdout",
     "output_type": "stream",
     "text": [
      "On average, opti_profit is $66.23 higher than sd_profit\n"
     ]
    }
   ],
   "source": [
    "import pandas as pd\n",
    "\n",
    "# Assuming the DataFrame is named df\n",
    "profit_diff = df_store2['opti_profit'] - df_store2['sd_profit']\n",
    "avg_profit_diff = profit_diff.mean()\n",
    "\n",
    "print(\"On average, opti_profit is ${:.2f} higher than sd_profit\".format(avg_profit_diff))"
   ]
  },
  {
   "cell_type": "code",
   "execution_count": null,
   "metadata": {},
   "outputs": [
    {
     "data": {
      "image/png": "[encoded data removed]",
      "text/plain": [
       "<Figure size 432x288 with 1 Axes>"
      ]
     },
     "metadata": {
      "needs_background": "light"
     },
     "output_type": "display_data"
    }
   ],
   "source": [
    "import matplotlib.pyplot as plt\n",
    "\n",
    "fig, ax = plt.subplots()\n",
    "\n",
    "df_store2.plot(x='num', y='opti_quantity', label='Optimal Quantity', ax=ax)\n",
    "df_store2.plot(x='num', y='sd_quantity', label='Standard Quantity', ax=ax)\n",
    "\n",
    "ax.set_xlabel('Num')\n",
    "ax.set_ylabel('Quantity')\n",
    "ax.set_title('Comparison of Optimal Quantity and Standard Quantity')\n",
    "\n",
    "plt.show()"
   ]
  },
  {
   "attachments": {},
   "cell_type": "markdown",
   "metadata": {},
   "source": [
    "____________"
   ]
  }
 ],
 "metadata": {
  "kernelspec": {
   "display_name": "Python 3",
   "language": "python",
   "name": "python3"
  },
  "language_info": {
   "codemirror_mode": {
    "name": "ipython",
    "version": 3
   },
   "file_extension": ".py",
   "mimetype": "text/x-python",
   "name": "python",
   "nbconvert_exporter": "python",
   "pygments_lexer": "ipython3",
   "version": "3.9.12"
  },
  "orig_nbformat": 4,
  "vscode": {
   "interpreter": {
    "hash": "3269648d6e0651c7b5af5f4cc25230a3f1cf3e7083e49973e49ed0b67b18f016"
   }
  }
 },
 "nbformat": 4,
 "nbformat_minor": 2
}
